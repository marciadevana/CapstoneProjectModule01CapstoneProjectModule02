{
 "cells": [
  {
   "cell_type": "markdown",
   "metadata": {},
   "source": [
    "## ANALISIS DATA TRANSJAKARTA ##"
   ]
  },
  {
   "cell_type": "markdown",
   "metadata": {},
   "source": [
    "## **Pendahuluan**\n",
    "\n",
    "#  Latar Belakang\n",
    "Transjakarta adalah perusahaan transportasi umum dari Indonesia yang berbasis di Jakarta. Moda transportasi yang tersedia adalah bus besar (BRT), bus sedang dan bus besar (non-BRT), bus mini (Mikrotrans). Mekanisme di Transjakarta adalah dengan Tap-In dan Tap-Out menggunakan kartu pembayaran sebagai tiket Anda. Layanan ini dirancang untuk menyediakan transportasi publik yang efisien dan nyaman bagi penduduk Jakarta. Dalam upaya untuk meningkatkan pelayanan dan efisiensi operasional, analisis data perjalanan Transjakarta dapat memberikan wawasan berharga yang dapat membantu dalam pengambilan keputusan bisnis."
   ]
  },
  {
   "cell_type": "markdown",
   "metadata": {},
   "source": [
    "# Rumusan Masalah\n",
    "\n",
    "1. Bagaimana distribusi demografi pengguna Transjakarta?\n",
    "\n",
    "2. Apa saja pola perjalanan pengguna Transjakarta?\n",
    "\n",
    "3. Bagaimana rata-rata pembayaran pengguna berdasarkan jenis kelamin dan kelompok usia?\n"
   ]
  },
  {
   "cell_type": "markdown",
   "metadata": {},
   "source": [
    "# Tujuan Analisis\n",
    "\n",
    "Tujuan dari analisis ini adalah untuk memahami berbagai aspek dari data perjalanan Transjakarta, termasuk:\n",
    "\n",
    "- Demografi pengguna (jenis kelamin, usia, dan bank penerbit kartu).\n",
    "\n",
    "- Pola perjalanan (jumlah perjalanan per koridor dan durasi perjalanan).\n",
    "\n",
    "- Analisis pembayaran (rata-rata pembayaran per koridor).\n",
    "\n",
    "Analisis ini mencakup pembersihan data, analisis deskriptif, dan analisis statistik inferensial untuk memberikan wawasan yang dapat membantu pengambilan keputusan bisnis."
   ]
  },
  {
   "cell_type": "code",
   "execution_count": 1,
   "metadata": {},
   "outputs": [],
   "source": [
    "import pandas as pd\n",
    "import numpy as np\n",
    "import seaborn as sns\n",
    "import matplotlib.pyplot as plt\n",
    "import warnings\n",
    "\n",
    "warnings.filterwarnings('ignore')\n",
    "from scipy import stats"
   ]
  },
  {
   "cell_type": "code",
   "execution_count": 2,
   "metadata": {},
   "outputs": [],
   "source": [
    "data = pd.read_csv('Transjakarta.csv')"
   ]
  },
  {
   "cell_type": "markdown",
   "metadata": {},
   "source": [
    "Pada dasarnya data ini adalah simulasi untuk data transaksi di Transjakarta, berisi 22 kolom yaitu:\n",
    "\n",
    "1.\ttransID: Id transaksi unik untuk setiap transaksi\n",
    "2.\tpayCardID: Pengenal utama pelanggan. Kartu yang digunakan pelanggan sebagai tiket masuk dan keluar.\n",
    "3.\tpayCardBank: Nama bank penerbit kartu pelanggan\n",
    "4.\tpayCardName: Nama pelanggan yang tercantum di dalam kartu.\n",
    "5.\tpayCardSex: Jenis kelamin pelanggan yang tertanam dalam kartu\n",
    "6.\tpayCardBirthDate: Tahun kelahiran pelanggan\n",
    "7.\tcorridorID: ID Koridor / ID Rute sebagai kunci untuk pengelompokan rute.\n",
    "8.\tcorridorName: Nama Koridor / Nama Rute berisi Start dan Finish untuk setiap rute.\n",
    "9.\tdirection: 0 untuk Pergi, 1 untuk Kembali. Arah dari rute.\n",
    "10.\ttapInStops: Tap In  (pintu masuk) ID Halte untuk mengidentifikasi nama halte\n",
    "11.\ttapInStopsName: Tap In (pintu masuk) Nama Halte tempat pelanggan tap in.\n",
    "12.\ttapInStopsLat: Garis Lintang dari Tap In Halte\n",
    "13.\ttapInStopsLon: Bujur dari Tap In (pintu masuk) Perhentian\n",
    "14.\tstopStartSeq: Urutan pemberhentian, pemberhentian pertama, pemberhentian kedua, dst. Terkait dengan arah.\n",
    "15.\ttapInTime: Waktu tap in. Tanggal dan waktu\n",
    "16.\ttapOutStops: Tap Out (Exit) ID Halte untuk mengidentifikasi nama halte\n",
    "17.\ttapOutStopsName: Tap out (exit) Nama Halte tempat pelanggan melakukan tap out.\n",
    "18.\ttapOutStopsLat: Garis Lintang Tap Out (keluar) Pemberhentian\n",
    "19.\ttapOutStopsLon: Bujur dari Tap Out Stops\n",
    "20.\tstopEndSeq:  Urutan pemberhentian, pemberhentian pertama, pemberhentian kedua, dst. Terkait dengan arah.\n",
    "21.\ttapOutTime: Waktu tap out. Tanggal dan waktu\n",
    "22.\tpayAmount: Jumlah yang harus dibayar pelanggan. Ada yang gratis. Beberapa tidak.\n"
   ]
  },
  {
   "cell_type": "code",
   "execution_count": 3,
   "metadata": {},
   "outputs": [
    {
     "data": {
      "text/plain": [
       "Index(['transID', 'payCardID', 'payCardBank', 'payCardName', 'payCardSex',\n",
       "       'payCardBirthDate', 'corridorID', 'corridorName', 'direction',\n",
       "       'tapInStops', 'tapInStopsName', 'tapInStopsLat', 'tapInStopsLon',\n",
       "       'stopStartSeq', 'tapInTime', 'tapOutStops', 'tapOutStopsName',\n",
       "       'tapOutStopsLat', 'tapOutStopsLon', 'stopEndSeq', 'tapOutTime',\n",
       "       'payAmount'],\n",
       "      dtype='object')"
      ]
     },
     "execution_count": 3,
     "metadata": {},
     "output_type": "execute_result"
    }
   ],
   "source": [
    "data.columns"
   ]
  },
  {
   "cell_type": "markdown",
   "metadata": {},
   "source": [
    "# **DATA CLEANING**"
   ]
  },
  {
   "cell_type": "code",
   "execution_count": 4,
   "metadata": {},
   "outputs": [
    {
     "data": {
      "text/plain": [
       "transID                0\n",
       "payCardID              0\n",
       "payCardBank            0\n",
       "payCardName            0\n",
       "payCardSex             0\n",
       "payCardBirthDate       0\n",
       "corridorID          1257\n",
       "corridorName        1930\n",
       "direction              0\n",
       "tapInStops          1213\n",
       "tapInStopsName         0\n",
       "tapInStopsLat          0\n",
       "tapInStopsLon          0\n",
       "stopStartSeq           0\n",
       "tapInTime              0\n",
       "tapOutStops         2289\n",
       "tapOutStopsName     1344\n",
       "tapOutStopsLat      1344\n",
       "tapOutStopsLon      1344\n",
       "stopEndSeq          1344\n",
       "tapOutTime          1344\n",
       "payAmount           1007\n",
       "dtype: int64"
      ]
     },
     "execution_count": 4,
     "metadata": {},
     "output_type": "execute_result"
    }
   ],
   "source": [
    "data.isna().sum()"
   ]
  },
  {
   "cell_type": "markdown",
   "metadata": {},
   "source": [
    "# Tujuan: \n",
    "Langkah pertama ini bertujuan untuk mengecek berapa banyak nilai yang hilang (missing values) dalam setiap kolom di dataset.\n",
    "\n",
    "# Output: \n",
    "Tabel yang menunjukkan jumlah nilai yang hilang untuk setiap kolom. Misalnya, kolom payAmount memiliki 1007 nilai yang hilang."
   ]
  },
  {
   "cell_type": "code",
   "execution_count": 5,
   "metadata": {},
   "outputs": [],
   "source": [
    "# Mengisi missing values dengan metode yang sesuai\n",
    "data['payAmount'] = data['payAmount'].fillna(data['payAmount'].mean())\n",
    "data['payCardBank'] = data['payCardBank'].fillna(data['payCardBank'].mode()[0])\n",
    "data['tapOutStopsName'] = data['tapOutStopsName'].fillna('Unknown')\n",
    "data['tapOutStopsLat'] = data['tapOutStopsLat'].fillna(0.0)\n",
    "data['tapOutStopsLon'] = data['tapOutStopsLon'].fillna(0.0)"
   ]
  },
  {
   "cell_type": "markdown",
   "metadata": {},
   "source": [
    "# Tujuan:\n",
    "Mengisi missing values di kolom tertentu dengan metode yang sesuai untuk memastikan data tidak memiliki nilai yang hilang.\n",
    "\n",
    "# Detail:\n",
    "- payAmount: Missing values diisi dengan rata-rata (mean) dari kolom tersebut.\n",
    "- payCardBank: Missing values diisi dengan modus (mode) dari kolom tersebut, yaitu nilai yang paling sering muncul.\n",
    "- tapOutStopsName: Missing values diisi dengan string 'Unknown'.\n",
    "- tapOutStopsLat dan tapOutStopsLon: Missing values diisi dengan 0.0."
   ]
  },
  {
   "cell_type": "code",
   "execution_count": 6,
   "metadata": {},
   "outputs": [
    {
     "data": {
      "text/html": [
       "<div>\n",
       "<style scoped>\n",
       "    .dataframe tbody tr th:only-of-type {\n",
       "        vertical-align: middle;\n",
       "    }\n",
       "\n",
       "    .dataframe tbody tr th {\n",
       "        vertical-align: top;\n",
       "    }\n",
       "\n",
       "    .dataframe thead th {\n",
       "        text-align: right;\n",
       "    }\n",
       "</style>\n",
       "<table border=\"1\" class=\"dataframe\">\n",
       "  <thead>\n",
       "    <tr style=\"text-align: right;\">\n",
       "      <th></th>\n",
       "      <th>transID</th>\n",
       "      <th>payCardID</th>\n",
       "      <th>payCardBank</th>\n",
       "      <th>payCardName</th>\n",
       "      <th>payCardSex</th>\n",
       "      <th>payCardBirthDate</th>\n",
       "      <th>corridorID</th>\n",
       "      <th>corridorName</th>\n",
       "      <th>direction</th>\n",
       "      <th>tapInStops</th>\n",
       "      <th>...</th>\n",
       "      <th>tapInStopsLon</th>\n",
       "      <th>stopStartSeq</th>\n",
       "      <th>tapInTime</th>\n",
       "      <th>tapOutStops</th>\n",
       "      <th>tapOutStopsName</th>\n",
       "      <th>tapOutStopsLat</th>\n",
       "      <th>tapOutStopsLon</th>\n",
       "      <th>stopEndSeq</th>\n",
       "      <th>tapOutTime</th>\n",
       "      <th>payAmount</th>\n",
       "    </tr>\n",
       "  </thead>\n",
       "  <tbody>\n",
       "    <tr>\n",
       "      <th>0</th>\n",
       "      <td>EIIW227B8L34VB</td>\n",
       "      <td>180062659848800</td>\n",
       "      <td>emoney</td>\n",
       "      <td>Bajragin Usada</td>\n",
       "      <td>M</td>\n",
       "      <td>2008</td>\n",
       "      <td>5</td>\n",
       "      <td>Matraman Baru - Ancol</td>\n",
       "      <td>1.0</td>\n",
       "      <td>P00142</td>\n",
       "      <td>...</td>\n",
       "      <td>106.84402</td>\n",
       "      <td>7</td>\n",
       "      <td>2023-04-03 05:21:44</td>\n",
       "      <td>P00253</td>\n",
       "      <td>Tegalan</td>\n",
       "      <td>-6.203101</td>\n",
       "      <td>106.85715</td>\n",
       "      <td>12.0</td>\n",
       "      <td>2023-04-03 06:00:53</td>\n",
       "      <td>3500.0</td>\n",
       "    </tr>\n",
       "    <tr>\n",
       "      <th>1</th>\n",
       "      <td>LGXO740D2N47GZ</td>\n",
       "      <td>4885331907664776</td>\n",
       "      <td>dki</td>\n",
       "      <td>Gandi Widodo</td>\n",
       "      <td>F</td>\n",
       "      <td>1997</td>\n",
       "      <td>6C</td>\n",
       "      <td>Stasiun Tebet - Karet via Patra Kuningan</td>\n",
       "      <td>0.0</td>\n",
       "      <td>B01963P</td>\n",
       "      <td>...</td>\n",
       "      <td>106.83302</td>\n",
       "      <td>13</td>\n",
       "      <td>2023-04-03 05:42:44</td>\n",
       "      <td>B03307P</td>\n",
       "      <td>Sampoerna Strategic</td>\n",
       "      <td>-6.217152</td>\n",
       "      <td>106.81892</td>\n",
       "      <td>21.0</td>\n",
       "      <td>2023-04-03 06:40:01</td>\n",
       "      <td>3500.0</td>\n",
       "    </tr>\n",
       "    <tr>\n",
       "      <th>2</th>\n",
       "      <td>DJWR385V2U57TO</td>\n",
       "      <td>4996225095064169</td>\n",
       "      <td>dki</td>\n",
       "      <td>Emong Wastuti</td>\n",
       "      <td>F</td>\n",
       "      <td>1992</td>\n",
       "      <td>R1A</td>\n",
       "      <td>Pantai Maju - Kota</td>\n",
       "      <td>0.0</td>\n",
       "      <td>B00499P</td>\n",
       "      <td>...</td>\n",
       "      <td>106.81435</td>\n",
       "      <td>38</td>\n",
       "      <td>2023-04-03 05:59:06</td>\n",
       "      <td>B04962P</td>\n",
       "      <td>Simpang Kunir Kemukus</td>\n",
       "      <td>-6.133731</td>\n",
       "      <td>106.81475</td>\n",
       "      <td>39.0</td>\n",
       "      <td>2023-04-03 06:50:55</td>\n",
       "      <td>3500.0</td>\n",
       "    </tr>\n",
       "    <tr>\n",
       "      <th>3</th>\n",
       "      <td>JTUZ800U7C86EH</td>\n",
       "      <td>639099174703</td>\n",
       "      <td>flazz</td>\n",
       "      <td>Surya Wacana</td>\n",
       "      <td>F</td>\n",
       "      <td>1978</td>\n",
       "      <td>11D</td>\n",
       "      <td>Pulo Gebang - Pulo Gadung 2 via PIK</td>\n",
       "      <td>0.0</td>\n",
       "      <td>B05587P</td>\n",
       "      <td>...</td>\n",
       "      <td>106.93526</td>\n",
       "      <td>23</td>\n",
       "      <td>2023-04-03 05:44:51</td>\n",
       "      <td>B03090P</td>\n",
       "      <td>Raya Penggilingan</td>\n",
       "      <td>-6.183068</td>\n",
       "      <td>106.93194</td>\n",
       "      <td>29.0</td>\n",
       "      <td>2023-04-03 06:28:16</td>\n",
       "      <td>3500.0</td>\n",
       "    </tr>\n",
       "    <tr>\n",
       "      <th>4</th>\n",
       "      <td>VMLO535V7F95NJ</td>\n",
       "      <td>570928206772</td>\n",
       "      <td>flazz</td>\n",
       "      <td>Embuh Mardhiyah</td>\n",
       "      <td>M</td>\n",
       "      <td>1982</td>\n",
       "      <td>12</td>\n",
       "      <td>Tanjung Priok - Pluit</td>\n",
       "      <td>0.0</td>\n",
       "      <td>P00239</td>\n",
       "      <td>...</td>\n",
       "      <td>106.88900</td>\n",
       "      <td>5</td>\n",
       "      <td>2023-04-03 06:17:35</td>\n",
       "      <td>P00098</td>\n",
       "      <td>Kali Besar Barat</td>\n",
       "      <td>-6.135355</td>\n",
       "      <td>106.81143</td>\n",
       "      <td>15.0</td>\n",
       "      <td>2023-04-03 06:57:03</td>\n",
       "      <td>3500.0</td>\n",
       "    </tr>\n",
       "    <tr>\n",
       "      <th>...</th>\n",
       "      <td>...</td>\n",
       "      <td>...</td>\n",
       "      <td>...</td>\n",
       "      <td>...</td>\n",
       "      <td>...</td>\n",
       "      <td>...</td>\n",
       "      <td>...</td>\n",
       "      <td>...</td>\n",
       "      <td>...</td>\n",
       "      <td>...</td>\n",
       "      <td>...</td>\n",
       "      <td>...</td>\n",
       "      <td>...</td>\n",
       "      <td>...</td>\n",
       "      <td>...</td>\n",
       "      <td>...</td>\n",
       "      <td>...</td>\n",
       "      <td>...</td>\n",
       "      <td>...</td>\n",
       "      <td>...</td>\n",
       "      <td>...</td>\n",
       "    </tr>\n",
       "    <tr>\n",
       "      <th>37895</th>\n",
       "      <td>ZWEC949B8Q87QG</td>\n",
       "      <td>4685818286724028395</td>\n",
       "      <td>brizzi</td>\n",
       "      <td>Kamila Mahendra</td>\n",
       "      <td>F</td>\n",
       "      <td>2004</td>\n",
       "      <td>6B</td>\n",
       "      <td>Ragunan - MH Thamrin via Semanggi</td>\n",
       "      <td>1.0</td>\n",
       "      <td>P00261</td>\n",
       "      <td>...</td>\n",
       "      <td>106.82309</td>\n",
       "      <td>2</td>\n",
       "      <td>2023-04-21 18:18:37</td>\n",
       "      <td>P00228</td>\n",
       "      <td>SMK 57</td>\n",
       "      <td>-6.290967</td>\n",
       "      <td>106.82365</td>\n",
       "      <td>13.0</td>\n",
       "      <td>2023-04-21 19:55:49</td>\n",
       "      <td>3500.0</td>\n",
       "    </tr>\n",
       "    <tr>\n",
       "      <th>37896</th>\n",
       "      <td>YHHK837P6Y95GN</td>\n",
       "      <td>6502902290603767</td>\n",
       "      <td>dki</td>\n",
       "      <td>Titi Siregar</td>\n",
       "      <td>M</td>\n",
       "      <td>1974</td>\n",
       "      <td>9N</td>\n",
       "      <td>Pinang Ranti - Pramuka</td>\n",
       "      <td>1.0</td>\n",
       "      <td>P00064</td>\n",
       "      <td>...</td>\n",
       "      <td>106.88116</td>\n",
       "      <td>1</td>\n",
       "      <td>2023-04-18 21:52:31</td>\n",
       "      <td>P00179</td>\n",
       "      <td>Pinang Ranti</td>\n",
       "      <td>-6.291075</td>\n",
       "      <td>106.88634</td>\n",
       "      <td>2.0</td>\n",
       "      <td>2023-04-18 22:28:22</td>\n",
       "      <td>3500.0</td>\n",
       "    </tr>\n",
       "    <tr>\n",
       "      <th>37897</th>\n",
       "      <td>YXPP627N4G95HO</td>\n",
       "      <td>213159426675861</td>\n",
       "      <td>emoney</td>\n",
       "      <td>drg. Zahra Nashiruddin</td>\n",
       "      <td>F</td>\n",
       "      <td>1976</td>\n",
       "      <td>1T</td>\n",
       "      <td>Cibubur - Balai Kota</td>\n",
       "      <td>1.0</td>\n",
       "      <td>B02873P</td>\n",
       "      <td>...</td>\n",
       "      <td>106.81676</td>\n",
       "      <td>12</td>\n",
       "      <td>2023-04-04 10:29:47</td>\n",
       "      <td>B00226P</td>\n",
       "      <td>Buperta Cibubur</td>\n",
       "      <td>-6.370321</td>\n",
       "      <td>106.89628</td>\n",
       "      <td>14.0</td>\n",
       "      <td>2023-04-04 13:27:25</td>\n",
       "      <td>20000.0</td>\n",
       "    </tr>\n",
       "    <tr>\n",
       "      <th>37898</th>\n",
       "      <td>RGVK175U2U98UV</td>\n",
       "      <td>377840859133591</td>\n",
       "      <td>emoney</td>\n",
       "      <td>Ana Agustina</td>\n",
       "      <td>M</td>\n",
       "      <td>1976</td>\n",
       "      <td>JAK.13</td>\n",
       "      <td>Tanah Abang - Jembatan Lima</td>\n",
       "      <td>1.0</td>\n",
       "      <td>B02505P</td>\n",
       "      <td>...</td>\n",
       "      <td>106.80954</td>\n",
       "      <td>33</td>\n",
       "      <td>2023-04-15 19:59:26</td>\n",
       "      <td>B01787P</td>\n",
       "      <td>JPO Blok G</td>\n",
       "      <td>-6.188861</td>\n",
       "      <td>106.81135</td>\n",
       "      <td>34.0</td>\n",
       "      <td>2023-04-15 20:27:50</td>\n",
       "      <td>0.0</td>\n",
       "    </tr>\n",
       "    <tr>\n",
       "      <th>37899</th>\n",
       "      <td>FMZZ963S4B68ZP</td>\n",
       "      <td>501862539795</td>\n",
       "      <td>flazz</td>\n",
       "      <td>drg. Leo Najmudin</td>\n",
       "      <td>F</td>\n",
       "      <td>1985</td>\n",
       "      <td>13</td>\n",
       "      <td>Ciledug - Tendean</td>\n",
       "      <td>0.0</td>\n",
       "      <td>P00001</td>\n",
       "      <td>...</td>\n",
       "      <td>106.74786</td>\n",
       "      <td>2</td>\n",
       "      <td>2023-04-12 21:08:12</td>\n",
       "      <td>P00106</td>\n",
       "      <td>Kebayoran Lama</td>\n",
       "      <td>-6.238340</td>\n",
       "      <td>106.77752</td>\n",
       "      <td>7.0</td>\n",
       "      <td>2023-04-12 21:34:53</td>\n",
       "      <td>3500.0</td>\n",
       "    </tr>\n",
       "  </tbody>\n",
       "</table>\n",
       "<p>32595 rows × 22 columns</p>\n",
       "</div>"
      ],
      "text/plain": [
       "              transID            payCardID payCardBank  \\\n",
       "0      EIIW227B8L34VB      180062659848800      emoney   \n",
       "1      LGXO740D2N47GZ     4885331907664776         dki   \n",
       "2      DJWR385V2U57TO     4996225095064169         dki   \n",
       "3      JTUZ800U7C86EH         639099174703       flazz   \n",
       "4      VMLO535V7F95NJ         570928206772       flazz   \n",
       "...               ...                  ...         ...   \n",
       "37895  ZWEC949B8Q87QG  4685818286724028395      brizzi   \n",
       "37896  YHHK837P6Y95GN     6502902290603767         dki   \n",
       "37897  YXPP627N4G95HO      213159426675861      emoney   \n",
       "37898  RGVK175U2U98UV      377840859133591      emoney   \n",
       "37899  FMZZ963S4B68ZP         501862539795       flazz   \n",
       "\n",
       "                  payCardName payCardSex  payCardBirthDate corridorID  \\\n",
       "0              Bajragin Usada          M              2008          5   \n",
       "1                Gandi Widodo          F              1997         6C   \n",
       "2               Emong Wastuti          F              1992        R1A   \n",
       "3                Surya Wacana          F              1978        11D   \n",
       "4             Embuh Mardhiyah          M              1982         12   \n",
       "...                       ...        ...               ...        ...   \n",
       "37895         Kamila Mahendra          F              2004         6B   \n",
       "37896            Titi Siregar          M              1974         9N   \n",
       "37897  drg. Zahra Nashiruddin          F              1976         1T   \n",
       "37898            Ana Agustina          M              1976     JAK.13   \n",
       "37899       drg. Leo Najmudin          F              1985         13   \n",
       "\n",
       "                                   corridorName  direction tapInStops  ...  \\\n",
       "0                         Matraman Baru - Ancol        1.0     P00142  ...   \n",
       "1      Stasiun Tebet - Karet via Patra Kuningan        0.0    B01963P  ...   \n",
       "2                            Pantai Maju - Kota        0.0    B00499P  ...   \n",
       "3           Pulo Gebang - Pulo Gadung 2 via PIK        0.0    B05587P  ...   \n",
       "4                         Tanjung Priok - Pluit        0.0     P00239  ...   \n",
       "...                                         ...        ...        ...  ...   \n",
       "37895         Ragunan - MH Thamrin via Semanggi        1.0     P00261  ...   \n",
       "37896                    Pinang Ranti - Pramuka        1.0     P00064  ...   \n",
       "37897                      Cibubur - Balai Kota        1.0    B02873P  ...   \n",
       "37898               Tanah Abang - Jembatan Lima        1.0    B02505P  ...   \n",
       "37899                         Ciledug - Tendean        0.0     P00001  ...   \n",
       "\n",
       "      tapInStopsLon  stopStartSeq            tapInTime  tapOutStops  \\\n",
       "0         106.84402             7  2023-04-03 05:21:44       P00253   \n",
       "1         106.83302            13  2023-04-03 05:42:44      B03307P   \n",
       "2         106.81435            38  2023-04-03 05:59:06      B04962P   \n",
       "3         106.93526            23  2023-04-03 05:44:51      B03090P   \n",
       "4         106.88900             5  2023-04-03 06:17:35       P00098   \n",
       "...             ...           ...                  ...          ...   \n",
       "37895     106.82309             2  2023-04-21 18:18:37       P00228   \n",
       "37896     106.88116             1  2023-04-18 21:52:31       P00179   \n",
       "37897     106.81676            12  2023-04-04 10:29:47      B00226P   \n",
       "37898     106.80954            33  2023-04-15 19:59:26      B01787P   \n",
       "37899     106.74786             2  2023-04-12 21:08:12       P00106   \n",
       "\n",
       "             tapOutStopsName tapOutStopsLat tapOutStopsLon  stopEndSeq  \\\n",
       "0                    Tegalan      -6.203101      106.85715        12.0   \n",
       "1        Sampoerna Strategic      -6.217152      106.81892        21.0   \n",
       "2      Simpang Kunir Kemukus      -6.133731      106.81475        39.0   \n",
       "3          Raya Penggilingan      -6.183068      106.93194        29.0   \n",
       "4           Kali Besar Barat      -6.135355      106.81143        15.0   \n",
       "...                      ...            ...            ...         ...   \n",
       "37895                 SMK 57      -6.290967      106.82365        13.0   \n",
       "37896           Pinang Ranti      -6.291075      106.88634         2.0   \n",
       "37897        Buperta Cibubur      -6.370321      106.89628        14.0   \n",
       "37898             JPO Blok G      -6.188861      106.81135        34.0   \n",
       "37899         Kebayoran Lama      -6.238340      106.77752         7.0   \n",
       "\n",
       "                tapOutTime  payAmount  \n",
       "0      2023-04-03 06:00:53     3500.0  \n",
       "1      2023-04-03 06:40:01     3500.0  \n",
       "2      2023-04-03 06:50:55     3500.0  \n",
       "3      2023-04-03 06:28:16     3500.0  \n",
       "4      2023-04-03 06:57:03     3500.0  \n",
       "...                    ...        ...  \n",
       "37895  2023-04-21 19:55:49     3500.0  \n",
       "37896  2023-04-18 22:28:22     3500.0  \n",
       "37897  2023-04-04 13:27:25    20000.0  \n",
       "37898  2023-04-15 20:27:50        0.0  \n",
       "37899  2023-04-12 21:34:53     3500.0  \n",
       "\n",
       "[32595 rows x 22 columns]"
      ]
     },
     "execution_count": 6,
     "metadata": {},
     "output_type": "execute_result"
    }
   ],
   "source": [
    "# Menghapus baris dengan missing values yang tersisa (jika ada)\n",
    "data_cleaned = data.dropna()\n",
    "\n",
    "data_cleaned"
   ]
  },
  {
   "cell_type": "markdown",
   "metadata": {},
   "source": [
    "# Tujuan: \n",
    "Menghapus baris yang masih memiliki missing values setelah pengisian nilai di langkah sebelumnya. Ini dilakukan untuk memastikan dataset yang bersih tanpa missing values.\n",
    "\n",
    "# Output: \n",
    "Dataset yang telah dibersihkan (data_cleaned), di mana semua missing values telah diisi atau baris yang memiliki missing values telah dihapus."
   ]
  },
  {
   "cell_type": "code",
   "execution_count": 7,
   "metadata": {},
   "outputs": [
    {
     "data": {
      "text/plain": [
       "transID             0\n",
       "payCardID           0\n",
       "payCardBank         0\n",
       "payCardName         0\n",
       "payCardSex          0\n",
       "payCardBirthDate    0\n",
       "corridorID          0\n",
       "corridorName        0\n",
       "direction           0\n",
       "tapInStops          0\n",
       "tapInStopsName      0\n",
       "tapInStopsLat       0\n",
       "tapInStopsLon       0\n",
       "stopStartSeq        0\n",
       "tapInTime           0\n",
       "tapOutStops         0\n",
       "tapOutStopsName     0\n",
       "tapOutStopsLat      0\n",
       "tapOutStopsLon      0\n",
       "stopEndSeq          0\n",
       "tapOutTime          0\n",
       "payAmount           0\n",
       "dtype: int64"
      ]
     },
     "execution_count": 7,
     "metadata": {},
     "output_type": "execute_result"
    }
   ],
   "source": [
    "data_cleaned.isna().sum()"
   ]
  },
  {
   "cell_type": "markdown",
   "metadata": {},
   "source": [
    "Langkah-langkah ini bertujuan untuk menangani missing values dalam dataset dengan metode yang sesuai. Mengisi missing values dengan nilai rata-rata, modus, atau nilai default (seperti 'Unknown' atau 0.0) membantu menjaga integritas data dan meminimalkan penghapusan data yang mungkin penting. Setelah semua missing values ditangani, dataset yang bersih (data_cleaned) siap untuk analisis lebih lanjut."
   ]
  },
  {
   "cell_type": "code",
   "execution_count": 8,
   "metadata": {},
   "outputs": [
    {
     "data": {
      "text/plain": [
       "0"
      ]
     },
     "execution_count": 8,
     "metadata": {},
     "output_type": "execute_result"
    }
   ],
   "source": [
    "# Mengidentifikasi data duplikat\n",
    "duplicates = data_cleaned.duplicated().sum()\n",
    "duplicates"
   ]
  },
  {
   "cell_type": "code",
   "execution_count": 9,
   "metadata": {},
   "outputs": [],
   "source": [
    "# Menghapus data duplikat\n",
    "data_cleaned = data_cleaned.drop_duplicates()"
   ]
  },
  {
   "cell_type": "markdown",
   "metadata": {},
   "source": [
    "Di sini kita mengidentifikasi jumlah data yang duplikat dengan duplicated().sum() dan kemudian menghapus data duplikat tersebut dengan drop_duplicates(). Data duplikat dapat menyebabkan analisis yang bias dan tidak akurat."
   ]
  },
  {
   "cell_type": "code",
   "execution_count": 10,
   "metadata": {},
   "outputs": [],
   "source": [
    "# Mengubah kolom tanggal menjadi tipe datetime\n",
    "data_cleaned['tapInTime'] = pd.to_datetime(data_cleaned['tapInTime'])\n",
    "data_cleaned['tapOutTime'] = pd.to_datetime(data_cleaned['tapOutTime'])\n",
    "\n",
    "# Menambahkan kolom usia pengguna\n",
    "data_cleaned['age'] = 2024 - data_cleaned['payCardBirthDate']"
   ]
  },
  {
   "cell_type": "markdown",
   "metadata": {},
   "source": [
    "Kolom tapInTime dan tapOutTime diubah menjadi tipe data datetime untuk memudahkan perhitungan waktu durasi perjalanan.\n",
    "\n",
    "Menambahkan kolom age (usia) pengguna dengan menghitung selisih antara tahun saat ini (2024) dengan tahun lahir pengguna (payCardBirthDate)."
   ]
  },
  {
   "cell_type": "code",
   "execution_count": 11,
   "metadata": {},
   "outputs": [
    {
     "data": {
      "text/plain": [
       "transID                     object\n",
       "payCardID                    int64\n",
       "payCardBank                 object\n",
       "payCardName                 object\n",
       "payCardSex                  object\n",
       "payCardBirthDate             int64\n",
       "corridorID                  object\n",
       "corridorName                object\n",
       "direction                  float64\n",
       "tapInStops                  object\n",
       "tapInStopsName              object\n",
       "tapInStopsLat              float64\n",
       "tapInStopsLon              float64\n",
       "stopStartSeq                 int64\n",
       "tapInTime           datetime64[ns]\n",
       "tapOutStops                 object\n",
       "tapOutStopsName             object\n",
       "tapOutStopsLat             float64\n",
       "tapOutStopsLon             float64\n",
       "stopEndSeq                 float64\n",
       "tapOutTime          datetime64[ns]\n",
       "payAmount                  float64\n",
       "age                          int64\n",
       "dtype: object"
      ]
     },
     "execution_count": 11,
     "metadata": {},
     "output_type": "execute_result"
    }
   ],
   "source": [
    "data_cleaned.dtypes"
   ]
  },
  {
   "cell_type": "code",
   "execution_count": 12,
   "metadata": {},
   "outputs": [],
   "source": [
    "# Menghitung durasi perjalanan dalam menit\n",
    "data_cleaned['trip_duration'] = (data_cleaned['tapOutTime'] - data_cleaned['tapInTime']).dt.total_seconds() / 60"
   ]
  },
  {
   "cell_type": "code",
   "execution_count": 13,
   "metadata": {},
   "outputs": [
    {
     "name": "stdout",
     "output_type": "stream",
     "text": [
      "       trip_duration\n",
      "count   32595.000000\n",
      "mean       72.229937\n",
      "std        28.069349\n",
      "min        15.000000\n",
      "25%        51.166667\n",
      "50%        72.100000\n",
      "75%        95.783333\n",
      "max       179.050000\n"
     ]
    }
   ],
   "source": [
    "# Memeriksa hasil\n",
    "print(data_cleaned[['trip_duration']].describe())"
   ]
  },
  {
   "cell_type": "code",
   "execution_count": 14,
   "metadata": {},
   "outputs": [
    {
     "name": "stdout",
     "output_type": "stream",
     "text": [
      "          payCardID  payCardBirthDate     direction  tapInStopsLat  \\\n",
      "count  3.106200e+04      31062.000000  31062.000000   31062.000000   \n",
      "mean   4.100975e+17       1990.017867      0.500419      -6.213541   \n",
      "min    6.040368e+10       1946.000000      0.000000      -6.394973   \n",
      "25%    1.800325e+14       1982.000000      0.000000      -6.245863   \n",
      "50%    3.507251e+15       1990.000000      1.000000      -6.213698   \n",
      "75%    4.684778e+15       2001.000000      1.000000      -6.173925   \n",
      "max    4.997694e+18       2012.000000      1.000000      -6.089429   \n",
      "std    1.299277e+18         13.114910      0.500008       0.058106   \n",
      "\n",
      "       tapInStopsLon  stopStartSeq                      tapInTime  \\\n",
      "count   31062.000000  31062.000000                          31062   \n",
      "mean      106.842819     13.922317  2023-04-16 08:00:14.947556352   \n",
      "min       106.614730      0.000000            2023-04-01 06:22:27   \n",
      "25%       106.804410      4.000000  2023-04-10 09:18:29.750000128   \n",
      "50%       106.838660     11.000000            2023-04-16 17:42:31   \n",
      "75%       106.883920     20.000000     2023-04-21 21:19:06.500000   \n",
      "max       107.023950     68.000000            2023-04-30 21:51:08   \n",
      "std         0.060160     12.291127                            NaN   \n",
      "\n",
      "       tapOutStopsLat  tapOutStopsLon    stopEndSeq  \\\n",
      "count    31062.000000    31062.000000  31062.000000   \n",
      "mean        -6.213107      106.842641     21.753622   \n",
      "min         -6.394973      106.618070      1.000000   \n",
      "25%         -6.246441      106.801880     12.000000   \n",
      "50%         -6.213906      106.838080     19.000000   \n",
      "75%         -6.173359      106.884910     30.000000   \n",
      "max         -6.091746      107.023660     77.000000   \n",
      "std          0.058946        0.060172     13.815233   \n",
      "\n",
      "                          tapOutTime     payAmount           age  \\\n",
      "count                          31062  31062.000000  31062.000000   \n",
      "mean   2023-04-16 09:12:22.930268416   1868.335956     33.982133   \n",
      "min              2023-04-01 07:27:31      0.000000     12.000000   \n",
      "25%    2023-04-10 10:31:31.249999872      0.000000     23.000000   \n",
      "50%       2023-04-16 19:01:18.500000   3500.000000     34.000000   \n",
      "75%    2023-04-21 22:44:03.750000128   3500.000000     42.000000   \n",
      "max              2023-04-30 23:23:18   3500.000000     78.000000   \n",
      "std                              NaN   1728.706726     13.114910   \n",
      "\n",
      "       trip_duration  \n",
      "count   31062.000000  \n",
      "mean       72.133045  \n",
      "min        15.000000  \n",
      "25%        51.116667  \n",
      "50%        71.966667  \n",
      "75%        95.700000  \n",
      "max       179.050000  \n",
      "std        28.067408  \n"
     ]
    }
   ],
   "source": [
    "# Mengidentifikasi outliers menggunakan IQR\n",
    "Q1 = data_cleaned['payAmount'].quantile(0.25)\n",
    "Q3 = data_cleaned['payAmount'].quantile(0.75)\n",
    "IQR = Q3 - Q1\n",
    "\n",
    "# Mendefinisikan batas bawah dan atas\n",
    "lower_bound = Q1 - 1.5 * IQR\n",
    "upper_bound = Q3 + 1.5 * IQR\n",
    "\n",
    "# Menyaring outliers\n",
    "data_cleaned = data_cleaned[(data_cleaned['payAmount'] >= lower_bound) & (data_cleaned['payAmount'] <= upper_bound)]\n",
    "\n",
    "# Memeriksa hasil setelah menghapus outliers\n",
    "print(data_cleaned.describe())"
   ]
  },
  {
   "cell_type": "markdown",
   "metadata": {},
   "source": [
    "Mengidentifikasi outliers pada kolom payAmount menggunakan metode Interquartile Range (IQR) dan kemudian menghapus baris-baris yang berada di luar batas bawah (lower_bound) dan batas atas (upper_bound)."
   ]
  },
  {
   "cell_type": "code",
   "execution_count": 15,
   "metadata": {},
   "outputs": [
    {
     "name": "stdout",
     "output_type": "stream",
     "text": [
      "       trip_duration\n",
      "count   31062.000000\n",
      "mean       72.133045\n",
      "std        28.067408\n",
      "min        15.000000\n",
      "25%        51.116667\n",
      "50%        71.966667\n",
      "75%        95.700000\n",
      "max       179.050000\n"
     ]
    }
   ],
   "source": [
    "# Menghitung durasi perjalanan dalam menit\n",
    "data_cleaned['trip_duration'] = (data_cleaned['tapOutTime'] - data_cleaned['tapInTime']).dt.total_seconds() / 60\n",
    "\n",
    "# Memeriksa hasil\n",
    "print(data_cleaned[['trip_duration']].describe())"
   ]
  },
  {
   "cell_type": "markdown",
   "metadata": {},
   "source": [
    "## *ANALISIS DESKRIPTIF*"
   ]
  },
  {
   "cell_type": "markdown",
   "metadata": {},
   "source": [
    "**Demografi Pengguna**\n",
    "\n",
    "Menganalisis demografi pengguna berdasarkan jenis kelamin dan usia."
   ]
  },
  {
   "cell_type": "code",
   "execution_count": 16,
   "metadata": {},
   "outputs": [
    {
     "data": {
      "text/plain": [
       "payCardSex\n",
       "F    16554\n",
       "M    14508\n",
       "Name: count, dtype: int64"
      ]
     },
     "execution_count": 16,
     "metadata": {},
     "output_type": "execute_result"
    }
   ],
   "source": [
    "# Analisis demografi pengguna berdasarkan jenis kelamin\n",
    "user_demographics_sex = data_cleaned['payCardSex'].value_counts()\n",
    "user_demographics_sex\n"
   ]
  },
  {
   "cell_type": "code",
   "execution_count": 17,
   "metadata": {},
   "outputs": [
    {
     "data": {
      "text/plain": [
       "payCardBank\n",
       "dki       15415\n",
       "emoney     5576\n",
       "brizzi     2797\n",
       "flazz      2677\n",
       "online     2378\n",
       "bni        2219\n",
       "Name: count, dtype: int64"
      ]
     },
     "execution_count": 17,
     "metadata": {},
     "output_type": "execute_result"
    }
   ],
   "source": [
    "# Analisis demografi pengguna berdasarkan bank penerbit kartu\n",
    "user_demographics_bank = data_cleaned['payCardBank'].value_counts()\n",
    "user_demographics_bank"
   ]
  },
  {
   "cell_type": "code",
   "execution_count": 18,
   "metadata": {},
   "outputs": [
    {
     "data": {
      "text/plain": [
       "count    31062.000000\n",
       "mean        33.982133\n",
       "std         13.114910\n",
       "min         12.000000\n",
       "25%         23.000000\n",
       "50%         34.000000\n",
       "75%         42.000000\n",
       "max         78.000000\n",
       "Name: age, dtype: float64"
      ]
     },
     "execution_count": 18,
     "metadata": {},
     "output_type": "execute_result"
    }
   ],
   "source": [
    "# Menambahkan kolom usia pengguna\n",
    "data_cleaned['age'] = 2024 - data_cleaned['payCardBirthDate']\n",
    "\n",
    "# Statistik deskriptif untuk usia pengguna\n",
    "age_stats = data_cleaned['age'].describe()\n",
    "age_stats"
   ]
  },
  {
   "cell_type": "markdown",
   "metadata": {},
   "source": [
    "**Analisis Perjalanan**\n",
    "\n",
    "Menganalisis distribusi perjalanan per koridor dan durasi perjalanan."
   ]
  },
  {
   "cell_type": "code",
   "execution_count": 19,
   "metadata": {},
   "outputs": [
    {
     "data": {
      "text/plain": [
       "corridorName\n",
       "Ciputat - CSW                                     350\n",
       "Harmoni - Jakarta International Stadium           313\n",
       "Pulo Gadung - Monas                               311\n",
       "Kampung Rambutan - Pondok Gede                    305\n",
       "Kalideres - Bundaran HI via Veteran               299\n",
       "                                                 ... \n",
       "Grogol - Pos Pengumben via Slipi                   37\n",
       "Senen - Tanah Abang                                36\n",
       "Term. Pulo Gadung - Lampiri                        28\n",
       "Tanah Abang - Kebayoran Lama via Pos Pengumben     21\n",
       "Kampung Rambutan - Blok M                          16\n",
       "Name: count, Length: 206, dtype: int64"
      ]
     },
     "execution_count": 19,
     "metadata": {},
     "output_type": "execute_result"
    }
   ],
   "source": [
    "# Distribusi perjalanan per koridor\n",
    "trip_distribution = data_cleaned['corridorName'].value_counts()\n",
    "trip_distribution"
   ]
  },
  {
   "cell_type": "code",
   "execution_count": 20,
   "metadata": {},
   "outputs": [
    {
     "data": {
      "text/plain": [
       "count    31062.000000\n",
       "mean        72.133045\n",
       "std         28.067408\n",
       "min         15.000000\n",
       "25%         51.116667\n",
       "50%         71.966667\n",
       "75%         95.700000\n",
       "max        179.050000\n",
       "Name: trip_duration, dtype: float64"
      ]
     },
     "execution_count": 20,
     "metadata": {},
     "output_type": "execute_result"
    }
   ],
   "source": [
    "# Menghitung durasi perjalanan dalam menit\n",
    "data_cleaned['trip_duration'] = (data_cleaned['tapOutTime'] - data_cleaned['tapInTime']).dt.total_seconds() / 60\n",
    "\n",
    "# Statistik deskriptif untuk durasi perjalanan\n",
    "trip_duration_stats = data_cleaned['trip_duration'].describe()\n",
    "trip_duration_stats"
   ]
  },
  {
   "cell_type": "markdown",
   "metadata": {},
   "source": [
    "**Analisis Pembayaran**\n",
    "\n",
    "Menganalisis rata-rata pembayaran per koridor."
   ]
  },
  {
   "cell_type": "code",
   "execution_count": 21,
   "metadata": {},
   "outputs": [
    {
     "data": {
      "text/html": [
       "<div>\n",
       "<style scoped>\n",
       "    .dataframe tbody tr th:only-of-type {\n",
       "        vertical-align: middle;\n",
       "    }\n",
       "\n",
       "    .dataframe tbody tr th {\n",
       "        vertical-align: top;\n",
       "    }\n",
       "\n",
       "    .dataframe thead th {\n",
       "        text-align: right;\n",
       "    }\n",
       "</style>\n",
       "<table border=\"1\" class=\"dataframe\">\n",
       "  <thead>\n",
       "    <tr style=\"text-align: right;\">\n",
       "      <th></th>\n",
       "      <th>corridorName</th>\n",
       "      <th>average_payment</th>\n",
       "    </tr>\n",
       "  </thead>\n",
       "  <tbody>\n",
       "    <tr>\n",
       "      <th>0</th>\n",
       "      <td>Andara - Stasiun Universitas Pancasila</td>\n",
       "      <td>0.000000</td>\n",
       "    </tr>\n",
       "    <tr>\n",
       "      <th>1</th>\n",
       "      <td>BKN - Blok M</td>\n",
       "      <td>2699.712683</td>\n",
       "    </tr>\n",
       "    <tr>\n",
       "      <th>2</th>\n",
       "      <td>BSD - Jelambar</td>\n",
       "      <td>3500.000000</td>\n",
       "    </tr>\n",
       "    <tr>\n",
       "      <th>3</th>\n",
       "      <td>Batusari - Grogol</td>\n",
       "      <td>3500.000000</td>\n",
       "    </tr>\n",
       "    <tr>\n",
       "      <th>4</th>\n",
       "      <td>Bekasi Timur - Cawang</td>\n",
       "      <td>3500.000000</td>\n",
       "    </tr>\n",
       "    <tr>\n",
       "      <th>...</th>\n",
       "      <td>...</td>\n",
       "      <td>...</td>\n",
       "    </tr>\n",
       "    <tr>\n",
       "      <th>201</th>\n",
       "      <td>Terminal Rawamangun - Cipinang Muara</td>\n",
       "      <td>0.000000</td>\n",
       "    </tr>\n",
       "    <tr>\n",
       "      <th>202</th>\n",
       "      <td>Terminal Tanah Merah - Pulo Gadung</td>\n",
       "      <td>0.000000</td>\n",
       "    </tr>\n",
       "    <tr>\n",
       "      <th>203</th>\n",
       "      <td>Terminal Tanjung Priok - Ancol Barat</td>\n",
       "      <td>0.000000</td>\n",
       "    </tr>\n",
       "    <tr>\n",
       "      <th>204</th>\n",
       "      <td>Tongtek - Tebet Eco Park (TEP) - Cililitan</td>\n",
       "      <td>0.000000</td>\n",
       "    </tr>\n",
       "    <tr>\n",
       "      <th>205</th>\n",
       "      <td>Universitas Indonesia - Lebak Bulus</td>\n",
       "      <td>3500.000000</td>\n",
       "    </tr>\n",
       "  </tbody>\n",
       "</table>\n",
       "<p>206 rows × 2 columns</p>\n",
       "</div>"
      ],
      "text/plain": [
       "                                   corridorName  average_payment\n",
       "0        Andara - Stasiun Universitas Pancasila         0.000000\n",
       "1                                  BKN - Blok M      2699.712683\n",
       "2                                BSD - Jelambar      3500.000000\n",
       "3                             Batusari - Grogol      3500.000000\n",
       "4                         Bekasi Timur - Cawang      3500.000000\n",
       "..                                          ...              ...\n",
       "201        Terminal Rawamangun - Cipinang Muara         0.000000\n",
       "202          Terminal Tanah Merah - Pulo Gadung         0.000000\n",
       "203        Terminal Tanjung Priok - Ancol Barat         0.000000\n",
       "204  Tongtek - Tebet Eco Park (TEP) - Cililitan         0.000000\n",
       "205         Universitas Indonesia - Lebak Bulus      3500.000000\n",
       "\n",
       "[206 rows x 2 columns]"
      ]
     },
     "execution_count": 21,
     "metadata": {},
     "output_type": "execute_result"
    }
   ],
   "source": [
    "# Rata-rata pembayaran per koridor\n",
    "average_payment_per_corridor = data_cleaned.groupby('corridorName')['payAmount'].mean().reset_index(name='average_payment')\n",
    "average_payment_per_corridor"
   ]
  },
  {
   "cell_type": "markdown",
   "metadata": {},
   "source": [
    "# PERTANYAAN BISNIS DENGAN STATISTIK INFERENSIAL #"
   ]
  },
  {
   "cell_type": "markdown",
   "metadata": {},
   "source": [
    "1. Koridor mana yang memiliki durasi perjalanan rata-rata yang paling efisien (terpendek) di seluruh jaringan Transjakarta?\n",
    "Metode: Uji ANOVA"
   ]
  },
  {
   "cell_type": "code",
   "execution_count": 22,
   "metadata": {},
   "outputs": [
    {
     "name": "stdout",
     "output_type": "stream",
     "text": [
      "Koridor yang dipilih: ['Ciputat - CSW', 'Harmoni - Jakarta International Stadium', 'Pulo Gadung - Monas', 'Kampung Rambutan - Pondok Gede', 'Kalideres - Bundaran HI via Veteran', 'Rusun Pondok Bambu - Walikota Jakarta Timur', 'Kebayoran Lama - Tanah Abang', 'Rusun Rawa Bebek - Kodamar', 'BKN - Blok M', 'Pasar Minggu - Tanah Abang', 'Kampung Rambutan - Pasar Rebo via Poncol', 'Ragunan - Blok M via Kemang', 'Blok M - Kota', 'Kampung Melayu - Pondok Kelapa', 'Kampung Melayu - Pulo Gebang via BKT', 'Tanah Abang - Kebayoran Lama', 'Pulo Gebang - Rorotan', 'Gondangdia - Senen', 'Terminal Tanah Merah - Pulo Gadung', 'Matraman Baru - Ancol', 'Poris Plawad - Bundaran Senayan', 'Ragunan - Gelora Bung Karno', 'Cilincing - Rorotan', 'Tanjung Priok - Pluit', 'PGC 2 - Tanjung Priok', 'Kalideres - Puri Kembangan', 'Puri Beta 2 - Tendean', 'PGC - Juanda', 'Batusari - Grogol', 'Pinang Ranti - Pramuka', 'Stasiun Tebet - Rusun Karet Tengsin', 'Senen - Blok M', 'Roxy - Benhil', 'Lebak Bulus - Cipulir', 'Tanjung Priok - Sukapura', 'Ciledug - Tendean', 'Andara - Stasiun Universitas Pancasila', 'Puri Beta - Pancoran Barat', 'TU Gas - Bundaran Senayan', 'Rusun Kapuk Muara - Penjaringan', 'Kalibata - Kuningan', 'Tanah Abang - Grogol via Tawakal', 'Harapan Indah - ASMI', 'Ragunan - Dukuh Atas 2', 'Bekasi Timur - Cawang', 'Pulo Gebang - Pulo Gadung 2 via PIK', 'Stasiun Tebet - Karet via Underpass', 'Monas - Pantai Indah Kapuk', 'Bulak Turi - Tanjung Priok', 'Jakarta International Stadium - Senen', 'Kalimalang - Duren Sawit', 'Kelapa Gading - Rusun Kemayoran', 'Terminal Rawamangun - Cipinang Muara', 'Pinang Ranti - Pluit', 'Senen - Lebak Bulus', 'Rawamangun - Duren Sawit', 'Kampung Melayu - Duren Sawit', 'Grogol - Meruya via Roxy', 'Kampung Melayu - Tanah Abang', 'PGC 2 - Grogol 2', 'Puri Beta - Kuningan (Express)', 'Rusun Cakung Barat - Pulo Gadung', 'Cilangkap - Cililitan', 'Cililitan - Condet', 'Pantai Maju - Kota', 'Sarana Jaya - Tebet Eco Park (TEP) - Stasiun Cawang', 'Rusun Sindang Koja - Kp. Sawah', 'Lenteng Agung - Aseli', 'Pulo Gadung 2 - Tosari', 'Term. Rawamangun - Term. Manggarai', 'Dukuh Atas - Casablanca via Epicentrum Raya', 'Pasar Minggu - Jagakarsa', 'Joglo - Blok M', 'Terminal Tanjung Priok - Ancol Barat', 'Taman Waduk Papanggo - Kota Tua', 'Stasiun Tebet - Karet via Patra Kuningan', 'Universitas Indonesia - Lebak Bulus', 'Cibubur - BKN', 'Tanah Abang - Meruya', 'Pinang Ranti - Kampung Rambutan', 'Cililitan - Condet via Kayu Manis', 'Tanah Abang - Jembatan Lima', 'Kampung Rambutan - Pinang Ranti', 'Lebak Bulus - Pasar Baru via Tomang', 'Pelabuhan Kaliadem - Kota', 'Lebak Bulus - Andara', 'Rusun Flamboyan - Cengkareng', 'Kampung Melayu - Pulo Gadung', 'Kampung Rambutan - Juanda via Pasar Baru', 'Puri Beta - Ragunan', 'Taman Kota - Budi Luhur', 'Rempoa - Blok M', 'Kampung Rambutan - Tanjung Priok', 'Rusun Pesakih - Kalideres', 'Lebak Bulus - Petukangan', 'Stasiun Manggarai - UI', 'Rusun Rawa Bebek - Bukit Duri', 'Kampung Melayu - Tanah Abang via Cikini', 'Bintaro - Blok M', 'Tanah Abang - St. Gondangdia', 'Tongtek - Tebet Eco Park (TEP) - Cililitan', 'Pancoran - Kampung Rambutan', 'Stasiun Palmerah - Bundaran Senayan', 'Tanah Abang - Kota', 'Pasar Minggu - Velbak', 'PGC 1 - Ancol', 'Rusun Marunda - Terminal Terpadu Pulo Gebang', 'Cempaka Putih - Pulo Gadung via Kelapa Gading', 'Stasiun Palmerah - Tosari', 'Blok M - Pasar Minggu', 'Stasiun Tebet - Kampung Melayu', 'Cawang UKI - Lubang Buaya', 'Kampung Rambutan - Monas', 'Tanjung Priok - Plumpang', 'Pinang Ranti - Bundaran Senayan', 'Ragunan - MH Thamrin via Kuningan', 'Kampung Rambutan - Bidara Cina', 'Pondok Labu - Blok M', 'Lebak Bulus - Ragunan', 'Rusun Jatinegara Kaum - Pulo Gadung', 'Grogol - Benhil', 'Cililitan - Kp. Pulo', 'Rusun Marunda - Tanjung Priok', 'Blok M - Andara', 'Rusun Penjaringan - Penjaringan', 'Pulo Gadung - Rawa Buaya via Balai Kota', 'Rusun Komarudin - Penggilingan', 'Meruya - Blok M', 'Kebayoran Lama - Jelambar', 'Tanjung Priok - Senen via Taman BMW', 'Bintara - Cipinang Indah', 'Dwikora - Penas Kalimalang', 'Ciputat - Kampung Rambutan', 'Kampung Melayu - Ragunan', 'Ragunan - MH Thamrin via Semanggi', 'Rusun Cipinang Muara - Jatinegara', 'Term. Tj. Priok - Pegangsaan II IGI', 'JIS - Terminal Muara Angke', 'Blok M - Universitas Indonesia', 'Senen - Pisangan Baru', 'Rusun Waduk Pluit - Penjaringan', 'Puri Beta - Dukuh Atas', 'Pluit - Senen', 'Pinang Ranti - Pulo Gadung', 'Tanjung Priok - Tanah Merdeka', 'Pulo Gebang - Matraman', 'Tanjung Priok - Blok M', 'Rusun Cipinang Besar Selatan - Penas Kalimalang', 'Kampung Rambutan - Lebak Bulus', 'Pantai Maju - Balai Kota', 'Harapan Baru - Pulo Gebang via Rawa Kuning', 'Terminal Kampung Melayu - Terminal Klender', 'BSD - Jelambar', 'Tanah Abang - Stasiun Gondangdia', 'Jelambar - Juanda', 'Summarecon Bekasi - BNN', 'Blok M - PGC', 'Pulo Gebang - Pulo Gadung 2', 'Cililitan - Dwikora', 'Grogol - Srengseng', 'Pesanggrahan - Blok M', 'Senen - Pulo Gadung', 'Pangkalan Jati - Rawamangun', 'Pulo Gadung 2 - Kuningan', 'Pulo Gadung 2 - Dukuh Atas 2', 'Rusun Jati Rawasari - Senen', 'Tanjung Priok - Jembatan Item', 'Depok - BKN', 'Tanjung Priok - PGC 2', 'Senen - Pulo Gadung via Kelapa Gading', 'Kp. Rambutan - Kalisari', 'Kampung Rambutan - Ragunan', 'Jelambar - Kota', 'Rusun Rawa Bebek - Penggilingan', 'Rawamangun - Klender', 'Sunter Boulevard Barat - Penjaringan', 'Grogol - Tubagus Angke', 'Bulak Ringin - Kampung Rambutan', 'Terminal Kampung Melayu - Kapin Raya', 'Jambore Cibubur - Pasar Rebo', 'S. Parman - Tanah Abang', 'Puri Kembangan - Sentraland Cengkareng', 'Rusun Tambora - Pluit', 'Semper - Rorotan', 'Kp. Rambutan - Taman Wiladatika', 'Rawa Buaya - Rawa Kompeni', 'Kalideres - Gelora Bung Karno', 'Lebak Bulus - Pasar Baru', 'Terminal Kalideres - Terminal Muara Angke', 'Ragunan - MH Thamrin', 'Pasar Minggu - Ciganjur via KB Ragunan', 'Rawamangun - Tanah Merah', 'Stasiun Tebet - BNN', 'Pulo Gadung - Kota', 'Tanah Abang - Blok M', 'Rusun Marunda - Rusun Waduk Pluit', 'Rusun Pinus Elok - Rusun Pulo Gebang']\n"
     ]
    }
   ],
   "source": [
    "# Identifikasi koridor dengan jumlah data yang cukup\n",
    "threshold = 50\n",
    "koridor_counts = data_cleaned['corridorName'].value_counts()\n",
    "selected_koridors = koridor_counts[koridor_counts >= threshold].index.tolist()\n",
    "\n",
    "print(\"Koridor yang dipilih:\", selected_koridors)"
   ]
  },
  {
   "cell_type": "markdown",
   "metadata": {},
   "source": [
    "Pada langkah di atas, saya mengidentifikasi koridor-koridor yang memiliki jumlah data yang cukup untuk dianalisis. Saya menetapkan threshold sebesar 50 untuk memastikan bahwa setiap koridor yang dipilih memiliki setidaknya 50 data perjalanan."
   ]
  },
  {
   "cell_type": "code",
   "execution_count": 23,
   "metadata": {},
   "outputs": [
    {
     "name": "stdout",
     "output_type": "stream",
     "text": [
      "Jumlah data untuk Ciputat - CSW: 350\n",
      "Jumlah data untuk Harmoni - Jakarta International Stadium: 313\n",
      "Jumlah data untuk Pulo Gadung - Monas: 311\n",
      "Jumlah data untuk Kampung Rambutan - Pondok Gede: 305\n",
      "Jumlah data untuk Kalideres - Bundaran HI via Veteran: 299\n",
      "Jumlah data untuk Rusun Pondok Bambu - Walikota Jakarta Timur: 297\n",
      "Jumlah data untuk Kebayoran Lama - Tanah Abang: 291\n",
      "Jumlah data untuk Rusun Rawa Bebek - Kodamar: 283\n",
      "Jumlah data untuk BKN - Blok M: 276\n",
      "Jumlah data untuk Pasar Minggu - Tanah Abang: 273\n",
      "Jumlah data untuk Kampung Rambutan - Pasar Rebo via Poncol: 270\n",
      "Jumlah data untuk Ragunan - Blok M via Kemang: 268\n",
      "Jumlah data untuk Blok M - Kota: 268\n",
      "Jumlah data untuk Kampung Melayu - Pondok Kelapa: 263\n",
      "Jumlah data untuk Kampung Melayu - Pulo Gebang via BKT: 260\n",
      "Jumlah data untuk Tanah Abang - Kebayoran Lama: 259\n",
      "Jumlah data untuk Pulo Gebang - Rorotan: 250\n",
      "Jumlah data untuk Gondangdia - Senen: 247\n",
      "Jumlah data untuk Terminal Tanah Merah - Pulo Gadung: 245\n",
      "Jumlah data untuk Matraman Baru - Ancol: 241\n",
      "Jumlah data untuk Poris Plawad - Bundaran Senayan: 236\n",
      "Jumlah data untuk Ragunan - Gelora Bung Karno: 236\n",
      "Jumlah data untuk Cilincing - Rorotan: 235\n",
      "Jumlah data untuk Tanjung Priok - Pluit: 232\n",
      "Jumlah data untuk PGC 2 - Tanjung Priok: 231\n",
      "Jumlah data untuk Kalideres - Puri Kembangan: 230\n",
      "Jumlah data untuk Puri Beta 2 - Tendean: 225\n",
      "Jumlah data untuk PGC - Juanda: 221\n",
      "Jumlah data untuk Batusari - Grogol: 220\n",
      "Jumlah data untuk Pinang Ranti - Pramuka: 220\n",
      "Jumlah data untuk Stasiun Tebet - Rusun Karet Tengsin: 220\n",
      "Jumlah data untuk Senen - Blok M: 218\n",
      "Jumlah data untuk Roxy - Benhil: 218\n",
      "Jumlah data untuk Lebak Bulus - Cipulir: 217\n",
      "Jumlah data untuk Tanjung Priok - Sukapura: 217\n",
      "Jumlah data untuk Ciledug - Tendean: 217\n",
      "Jumlah data untuk Andara - Stasiun Universitas Pancasila: 215\n",
      "Jumlah data untuk Puri Beta - Pancoran Barat: 213\n",
      "Jumlah data untuk TU Gas - Bundaran Senayan: 212\n",
      "Jumlah data untuk Rusun Kapuk Muara - Penjaringan: 211\n",
      "Jumlah data untuk Kalibata - Kuningan: 208\n",
      "Jumlah data untuk Tanah Abang - Grogol via Tawakal: 203\n",
      "Jumlah data untuk Harapan Indah - ASMI: 201\n",
      "Jumlah data untuk Ragunan - Dukuh Atas 2: 201\n",
      "Jumlah data untuk Bekasi Timur - Cawang: 200\n",
      "Jumlah data untuk Pulo Gebang - Pulo Gadung 2 via PIK: 200\n",
      "Jumlah data untuk Stasiun Tebet - Karet via Underpass: 200\n",
      "Jumlah data untuk Monas - Pantai Indah Kapuk: 196\n",
      "Jumlah data untuk Bulak Turi - Tanjung Priok: 196\n",
      "Jumlah data untuk Jakarta International Stadium - Senen: 194\n",
      "Jumlah data untuk Kalimalang - Duren Sawit: 193\n",
      "Jumlah data untuk Kelapa Gading - Rusun Kemayoran: 191\n",
      "Jumlah data untuk Terminal Rawamangun - Cipinang Muara: 190\n",
      "Jumlah data untuk Pinang Ranti - Pluit: 188\n",
      "Jumlah data untuk Senen - Lebak Bulus: 187\n",
      "Jumlah data untuk Rawamangun - Duren Sawit: 186\n",
      "Jumlah data untuk Kampung Melayu - Duren Sawit: 186\n",
      "Jumlah data untuk Grogol - Meruya via Roxy: 183\n",
      "Jumlah data untuk Kampung Melayu - Tanah Abang: 182\n",
      "Jumlah data untuk PGC 2 - Grogol 2: 182\n",
      "Jumlah data untuk Puri Beta - Kuningan (Express): 181\n",
      "Jumlah data untuk Rusun Cakung Barat - Pulo Gadung: 181\n",
      "Jumlah data untuk Cilangkap - Cililitan: 180\n",
      "Jumlah data untuk Cililitan - Condet: 180\n",
      "Jumlah data untuk Pantai Maju - Kota: 180\n",
      "Jumlah data untuk Sarana Jaya - Tebet Eco Park (TEP) - Stasiun Cawang: 179\n",
      "Jumlah data untuk Rusun Sindang Koja - Kp. Sawah: 177\n",
      "Jumlah data untuk Lenteng Agung - Aseli: 177\n",
      "Jumlah data untuk Pulo Gadung 2 - Tosari: 176\n",
      "Jumlah data untuk Term. Rawamangun - Term. Manggarai: 171\n",
      "Jumlah data untuk Dukuh Atas - Casablanca via Epicentrum Raya: 170\n",
      "Jumlah data untuk Pasar Minggu - Jagakarsa: 169\n",
      "Jumlah data untuk Joglo - Blok M: 168\n",
      "Jumlah data untuk Terminal Tanjung Priok - Ancol Barat: 167\n",
      "Jumlah data untuk Taman Waduk Papanggo - Kota Tua: 166\n",
      "Jumlah data untuk Stasiun Tebet - Karet via Patra Kuningan: 165\n",
      "Jumlah data untuk Universitas Indonesia - Lebak Bulus: 165\n",
      "Jumlah data untuk Cibubur - BKN: 164\n",
      "Jumlah data untuk Tanah Abang - Meruya: 163\n",
      "Jumlah data untuk Pinang Ranti - Kampung Rambutan: 163\n",
      "Jumlah data untuk Cililitan - Condet via Kayu Manis: 162\n",
      "Jumlah data untuk Tanah Abang - Jembatan Lima: 162\n",
      "Jumlah data untuk Kampung Rambutan - Pinang Ranti: 162\n",
      "Jumlah data untuk Lebak Bulus - Pasar Baru via Tomang: 160\n",
      "Jumlah data untuk Pelabuhan Kaliadem - Kota: 160\n",
      "Jumlah data untuk Lebak Bulus - Andara: 157\n",
      "Jumlah data untuk Rusun Flamboyan - Cengkareng: 157\n",
      "Jumlah data untuk Kampung Melayu - Pulo Gadung: 156\n",
      "Jumlah data untuk Kampung Rambutan - Juanda via Pasar Baru: 156\n",
      "Jumlah data untuk Puri Beta - Ragunan: 156\n",
      "Jumlah data untuk Taman Kota - Budi Luhur: 153\n",
      "Jumlah data untuk Rempoa - Blok M: 153\n",
      "Jumlah data untuk Kampung Rambutan - Tanjung Priok: 153\n",
      "Jumlah data untuk Rusun Pesakih - Kalideres: 152\n",
      "Jumlah data untuk Lebak Bulus - Petukangan: 152\n",
      "Jumlah data untuk Stasiun Manggarai - UI: 152\n",
      "Jumlah data untuk Rusun Rawa Bebek - Bukit Duri: 152\n",
      "Jumlah data untuk Kampung Melayu - Tanah Abang via Cikini: 152\n",
      "Jumlah data untuk Bintaro - Blok M: 151\n",
      "Jumlah data untuk Tanah Abang - St. Gondangdia: 150\n",
      "Jumlah data untuk Tongtek - Tebet Eco Park (TEP) - Cililitan: 149\n",
      "Jumlah data untuk Pancoran - Kampung Rambutan: 147\n",
      "Jumlah data untuk Stasiun Palmerah - Bundaran Senayan: 146\n",
      "Jumlah data untuk Tanah Abang - Kota: 146\n",
      "Jumlah data untuk Pasar Minggu - Velbak: 143\n",
      "Jumlah data untuk PGC 1 - Ancol: 143\n",
      "Jumlah data untuk Rusun Marunda - Terminal Terpadu Pulo Gebang: 142\n",
      "Jumlah data untuk Cempaka Putih - Pulo Gadung via Kelapa Gading: 141\n",
      "Jumlah data untuk Stasiun Palmerah - Tosari: 141\n",
      "Jumlah data untuk Blok M - Pasar Minggu: 137\n",
      "Jumlah data untuk Stasiun Tebet - Kampung Melayu: 136\n",
      "Jumlah data untuk Cawang UKI - Lubang Buaya: 135\n",
      "Jumlah data untuk Kampung Rambutan - Monas: 135\n",
      "Jumlah data untuk Tanjung Priok - Plumpang: 135\n",
      "Jumlah data untuk Pinang Ranti - Bundaran Senayan: 135\n",
      "Jumlah data untuk Ragunan - MH Thamrin via Kuningan: 133\n",
      "Jumlah data untuk Kampung Rambutan - Bidara Cina: 133\n",
      "Jumlah data untuk Pondok Labu - Blok M: 132\n",
      "Jumlah data untuk Lebak Bulus - Ragunan: 132\n",
      "Jumlah data untuk Rusun Jatinegara Kaum - Pulo Gadung: 130\n",
      "Jumlah data untuk Grogol - Benhil: 128\n",
      "Jumlah data untuk Cililitan - Kp. Pulo: 128\n",
      "Jumlah data untuk Rusun Marunda - Tanjung Priok: 126\n",
      "Jumlah data untuk Blok M - Andara: 126\n",
      "Jumlah data untuk Rusun Penjaringan - Penjaringan: 126\n",
      "Jumlah data untuk Pulo Gadung - Rawa Buaya via Balai Kota: 125\n",
      "Jumlah data untuk Rusun Komarudin - Penggilingan: 125\n",
      "Jumlah data untuk Meruya - Blok M: 125\n",
      "Jumlah data untuk Kebayoran Lama - Jelambar: 125\n",
      "Jumlah data untuk Tanjung Priok - Senen via Taman BMW: 124\n",
      "Jumlah data untuk Bintara - Cipinang Indah: 123\n",
      "Jumlah data untuk Dwikora - Penas Kalimalang: 123\n",
      "Jumlah data untuk Ciputat - Kampung Rambutan: 123\n",
      "Jumlah data untuk Kampung Melayu - Ragunan: 122\n",
      "Jumlah data untuk Ragunan - MH Thamrin via Semanggi: 120\n",
      "Jumlah data untuk Rusun Cipinang Muara - Jatinegara: 120\n",
      "Jumlah data untuk Term. Tj. Priok - Pegangsaan II IGI: 120\n",
      "Jumlah data untuk JIS - Terminal Muara Angke: 120\n",
      "Jumlah data untuk Blok M - Universitas Indonesia: 120\n",
      "Jumlah data untuk Senen - Pisangan Baru: 119\n",
      "Jumlah data untuk Rusun Waduk Pluit - Penjaringan: 118\n",
      "Jumlah data untuk Puri Beta - Dukuh Atas: 118\n",
      "Jumlah data untuk Pluit - Senen: 116\n",
      "Jumlah data untuk Pinang Ranti - Pulo Gadung: 116\n",
      "Jumlah data untuk Tanjung Priok - Tanah Merdeka: 115\n",
      "Jumlah data untuk Pulo Gebang - Matraman: 114\n",
      "Jumlah data untuk Tanjung Priok - Blok M: 114\n",
      "Jumlah data untuk Rusun Cipinang Besar Selatan - Penas Kalimalang: 114\n",
      "Jumlah data untuk Kampung Rambutan - Lebak Bulus: 113\n",
      "Jumlah data untuk Pantai Maju - Balai Kota: 112\n",
      "Jumlah data untuk Harapan Baru - Pulo Gebang via Rawa Kuning: 111\n",
      "Jumlah data untuk Terminal Kampung Melayu - Terminal Klender: 111\n",
      "Jumlah data untuk BSD - Jelambar: 110\n",
      "Jumlah data untuk Tanah Abang - Stasiun Gondangdia: 110\n",
      "Jumlah data untuk Jelambar - Juanda: 110\n",
      "Jumlah data untuk Summarecon Bekasi - BNN: 107\n",
      "Jumlah data untuk Blok M - PGC: 107\n",
      "Jumlah data untuk Pulo Gebang - Pulo Gadung 2: 107\n",
      "Jumlah data untuk Cililitan - Dwikora: 106\n",
      "Jumlah data untuk Grogol - Srengseng: 104\n",
      "Jumlah data untuk Pesanggrahan - Blok M: 102\n",
      "Jumlah data untuk Senen - Pulo Gadung: 102\n",
      "Jumlah data untuk Pangkalan Jati - Rawamangun: 100\n",
      "Jumlah data untuk Pulo Gadung 2 - Kuningan: 99\n",
      "Jumlah data untuk Pulo Gadung 2 - Dukuh Atas 2: 98\n",
      "Jumlah data untuk Rusun Jati Rawasari - Senen: 91\n",
      "Jumlah data untuk Tanjung Priok - Jembatan Item: 90\n",
      "Jumlah data untuk Depok - BKN: 89\n",
      "Jumlah data untuk Tanjung Priok - PGC 2: 89\n",
      "Jumlah data untuk Senen - Pulo Gadung via Kelapa Gading: 87\n",
      "Jumlah data untuk Kp. Rambutan - Kalisari: 86\n",
      "Jumlah data untuk Kampung Rambutan - Ragunan: 84\n",
      "Jumlah data untuk Jelambar - Kota: 83\n",
      "Jumlah data untuk Rusun Rawa Bebek - Penggilingan: 82\n",
      "Jumlah data untuk Rawamangun - Klender: 82\n",
      "Jumlah data untuk Sunter Boulevard Barat - Penjaringan: 82\n",
      "Jumlah data untuk Grogol - Tubagus Angke: 81\n",
      "Jumlah data untuk Bulak Ringin - Kampung Rambutan: 80\n",
      "Jumlah data untuk Terminal Kampung Melayu - Kapin Raya: 80\n",
      "Jumlah data untuk Jambore Cibubur - Pasar Rebo: 79\n",
      "Jumlah data untuk S. Parman - Tanah Abang: 78\n",
      "Jumlah data untuk Puri Kembangan - Sentraland Cengkareng: 77\n",
      "Jumlah data untuk Rusun Tambora - Pluit: 76\n",
      "Jumlah data untuk Semper - Rorotan: 73\n",
      "Jumlah data untuk Kp. Rambutan - Taman Wiladatika: 73\n",
      "Jumlah data untuk Rawa Buaya - Rawa Kompeni: 72\n",
      "Jumlah data untuk Kalideres - Gelora Bung Karno: 70\n",
      "Jumlah data untuk Lebak Bulus - Pasar Baru: 65\n",
      "Jumlah data untuk Terminal Kalideres - Terminal Muara Angke: 60\n",
      "Jumlah data untuk Ragunan - MH Thamrin: 59\n",
      "Jumlah data untuk Pasar Minggu - Ciganjur via KB Ragunan: 58\n",
      "Jumlah data untuk Rawamangun - Tanah Merah: 57\n",
      "Jumlah data untuk Stasiun Tebet - BNN: 56\n",
      "Jumlah data untuk Pulo Gadung - Kota: 55\n",
      "Jumlah data untuk Tanah Abang - Blok M: 54\n",
      "Jumlah data untuk Rusun Marunda - Rusun Waduk Pluit: 51\n",
      "Jumlah data untuk Rusun Pinus Elok - Rusun Pulo Gebang: 50\n"
     ]
    }
   ],
   "source": [
    "# Bersihkan data dari nilai NaN dan inf untuk koridor yang dipilih\n",
    "cleaned_data = {}\n",
    "for koridor in selected_koridors:\n",
    "    koridor_data = data_cleaned[data_cleaned['corridorName'] == koridor]['trip_duration'].dropna()\n",
    "    koridor_data = koridor_data[~koridor_data.isin([np.inf, -np.inf])]\n",
    "    cleaned_data[koridor] = koridor_data\n",
    "\n",
    "# Memeriksa jumlah data setelah pembersihan\n",
    "for koridor in cleaned_data:\n",
    "    print(f\"Jumlah data untuk {koridor}: {len(cleaned_data[koridor])}\")"
   ]
  },
  {
   "cell_type": "markdown",
   "metadata": {},
   "source": [
    "Pada langkah di atas, saya membersihkan data dari nilai NaN (Not a Number) dan inf (infinity) untuk setiap koridor yang telah dipilih. saya memastikan bahwa data yang tersisa hanya berisi nilai yang valid untuk analisis lebih lanjut."
   ]
  },
  {
   "cell_type": "code",
   "execution_count": 24,
   "metadata": {},
   "outputs": [
    {
     "name": "stdout",
     "output_type": "stream",
     "text": [
      "F-statistic: 2.822348290231403, P-value: 2.47221004525036e-35\n",
      "Terdapat perbedaan signifikan dalam rata-rata durasi perjalanan antara koridor-koridor tersebut. Tolak H0, Terima H1.\n"
     ]
    }
   ],
   "source": [
    "# Melakukan uji ANOVA hanya jika semua kelompok memiliki data\n",
    "if all(len(data) > 0 for data in cleaned_data.values()):\n",
    "    f_stat, p_value = stats.f_oneway(*cleaned_data.values())\n",
    "    print(f'F-statistic: {f_stat}, P-value: {p_value}')\n",
    "    if p_value < 0.05:\n",
    "        anova_result = \"Terdapat perbedaan signifikan dalam rata-rata durasi perjalanan antara koridor-koridor tersebut. Tolak H0, Terima H1.\"\n",
    "    else:\n",
    "        anova_result = \"Tidak terdapat perbedaan signifikan dalam rata-rata durasi perjalanan antara koridor-koridor tersebut. Gagal tolak H0, Terima H0.\"\n",
    "else:\n",
    "    anova_result = \"Salah satu kelompok data kosong, tidak bisa melakukan uji ANOVA.\"\n",
    "print(anova_result)"
   ]
  },
  {
   "cell_type": "markdown",
   "metadata": {},
   "source": [
    "# Penjelasan:\n",
    "\n",
    "- Hipotesis Nol (H0): Tidak ada perbedaan signifikan dalam rata-rata durasi perjalanan antara koridor-koridor yang dianalisis.\n",
    "\n",
    "- Hipotesis Alternatif (H1): Ada perbedaan signifikan dalam rata-rata durasi perjalanan antara koridor-koridor yang dianalisis.\n",
    "\n",
    "Dari hasil perhitungan, kita mendapatkan nilai F-statistic sebesar 2.822348290231403 dan P-value sebesar 2.47221004525036e-35. Nilai P-value ini jauh lebih kecil dari 0.05.\n",
    "\n",
    "# Keputusan: \n",
    "Karena P-value < 0.05, kita menolak H0 dan menerima H1. Ini berarti terdapat perbedaan signifikan dalam rata-rata durasi perjalanan antara koridor-koridor yang dianalisis."
   ]
  },
  {
   "cell_type": "markdown",
   "metadata": {},
   "source": [
    "2. Apakah ada hubungan antara usia pengguna dan jumlah pembayaran?\n",
    "Metode: Analisis Korelasi Pearson"
   ]
  },
  {
   "cell_type": "code",
   "execution_count": 25,
   "metadata": {},
   "outputs": [
    {
     "name": "stdout",
     "output_type": "stream",
     "text": [
      "Correlation: -0.04476797474580324, P-value: 2.9327805696682404e-15\n",
      "Terdapat hubungan yang signifikan antara usia pengguna dan jumlah pembayaran. Tolak H0, Terima H1.\n"
     ]
    }
   ],
   "source": [
    "# Menghitung korelasi Pearson\n",
    "correlation, p_value = stats.pearsonr(data_cleaned['age'], data_cleaned['payAmount'])\n",
    "\n",
    "# Menampilkan hasil\n",
    "print(f'Correlation: {correlation}, P-value: {p_value}')\n",
    "\n",
    "# Interpretasi hasil\n",
    "if p_value < 0.05:\n",
    "    print(\"Terdapat hubungan yang signifikan antara usia pengguna dan jumlah pembayaran. Tolak H0, Terima H1.\")\n",
    "else:\n",
    "    print(\"Tidak terdapat hubungan yang signifikan antara usia pengguna dan jumlah pembayaran. Gagal tolak H0, Terima H0.\")\n",
    "    print(\"Tidak terdapat hubungan yang signifikan antara usia pengguna dan jumlah pembayaran.\")"
   ]
  },
  {
   "cell_type": "markdown",
   "metadata": {},
   "source": [
    "# Penjelasan:\n",
    "\n",
    "- Hipotesis Nol (H0): Tidak ada hubungan signifikan antara usia pengguna dan jumlah pembayaran.\n",
    "\n",
    "- Hipotesis Alternatif (H1): Ada hubungan signifikan antara usia pengguna dan jumlah pembayaran.\n",
    "\n",
    "Dari hasil perhitungan, kita mendapatkan nilai Korelasi sebesar -0.0447679744580324 dan P-value sebesar 2.9327805696682404e-15. Nilai P-value ini jauh lebih kecil dari 0.05.\n",
    "\n",
    "# Keputusan:\n",
    "Karena P-value < 0.05, kita menolak H0 dan menerima H1. Ini berarti terdapat hubungan signifikan antara usia pengguna dan jumlah pembayaran."
   ]
  },
  {
   "cell_type": "markdown",
   "metadata": {},
   "source": [
    "3. Apakah ada perbedaan signifikan dalam jumlah pembayaran antara jenis kelamin?\n",
    "Metode: Uji Mann-Whitney U (jika data tidak normal), atau Uji t dua sampel (jika data normal)"
   ]
  },
  {
   "cell_type": "code",
   "execution_count": 26,
   "metadata": {},
   "outputs": [
    {
     "name": "stdout",
     "output_type": "stream",
     "text": [
      "payCardSex\n",
      "F    16554\n",
      "M    14508\n",
      "Name: count, dtype: int64\n",
      "Jumlah data untuk laki-laki: 14508\n",
      "Jumlah data untuk perempuan: 16554\n",
      "0     3500.0\n",
      "4     3500.0\n",
      "9     3500.0\n",
      "14       0.0\n",
      "15    3500.0\n",
      "Name: payAmount, dtype: float64\n",
      "1     3500.000000\n",
      "2     3500.000000\n",
      "3     3500.000000\n",
      "10    3500.000000\n",
      "11    2699.712683\n",
      "Name: payAmount, dtype: float64\n"
     ]
    }
   ],
   "source": [
    "from scipy import stats\n",
    "\n",
    "# Memeriksa distribusi nilai pada kolom payCardSex\n",
    "print(data_cleaned['payCardSex'].value_counts(dropna=False))\n",
    "\n",
    "# Memeriksa jumlah data yang sesuai dengan filter\n",
    "male_payments = data_cleaned[data_cleaned['payCardSex'] == 'M']['payAmount']\n",
    "female_payments = data_cleaned[data_cleaned['payCardSex'] == 'F']['payAmount']\n",
    "\n",
    "print(f\"Jumlah data untuk laki-laki: {len(male_payments)}\")\n",
    "print(f\"Jumlah data untuk perempuan: {len(female_payments)}\")\n",
    "\n",
    "print(male_payments.head())\n",
    "print(female_payments.head())"
   ]
  },
  {
   "cell_type": "markdown",
   "metadata": {},
   "source": [
    "Pada langkah di atas, saya memeriksa distribusi nilai pada kolom payCardSex untuk melihat jumlah pengguna laki-laki dan perempuan. Selanjutnya, saya memisahkan jumlah pembayaran berdasarkan jenis kelamin untuk dianalisis lebih lanjut."
   ]
  },
  {
   "cell_type": "code",
   "execution_count": 27,
   "metadata": {},
   "outputs": [
    {
     "name": "stdout",
     "output_type": "stream",
     "text": [
      "Jumlah data setelah menghapus NaN dan inf untuk laki-laki: 14508\n",
      "Jumlah data setelah menghapus NaN dan inf untuk perempuan: 16554\n"
     ]
    }
   ],
   "source": [
    "# Menghapus nilai NaN dan inf dari kedua kelompok\n",
    "male_payments = male_payments.dropna()\n",
    "female_payments = female_payments.dropna()\n",
    "\n",
    "male_payments = male_payments[~male_payments.isin([np.inf, -np.inf])]\n",
    "female_payments = female_payments[~female_payments.isin([np.inf, -np.inf])]\n",
    "\n",
    "# Memeriksa kembali data setelah menghapus NaN dan inf\n",
    "print(f\"Jumlah data setelah menghapus NaN dan inf untuk laki-laki: {len(male_payments)}\")\n",
    "print(f\"Jumlah data setelah menghapus NaN dan inf untuk perempuan: {len(female_payments)}\")"
   ]
  },
  {
   "cell_type": "markdown",
   "metadata": {},
   "source": [
    "Pada langkah di atas, saya  membersihkan data dari nilai NaN dan inf pada kolom payAmount untuk kedua kelompok (laki-laki dan perempuan). Saya memastikan bahwa data yang tersisa hanya berisi nilai yang valid untuk analisis lebih lanjut."
   ]
  },
  {
   "cell_type": "code",
   "execution_count": 28,
   "metadata": {},
   "outputs": [
    {
     "name": "stdout",
     "output_type": "stream",
     "text": [
      "U-statistic: 122335529.5, P-value: 0.0011152392491163444\n",
      "Terdapat perbedaan signifikan dalam jumlah pembayaran antara dua jenis kelamin. Tolak H0, Terima H1.\n"
     ]
    }
   ],
   "source": [
    "# Melakukan uji Mann-Whitney U setelah membersihkan data\n",
    "u_stat, p_value = stats.mannwhitneyu(male_payments, female_payments)\n",
    "print(f'U-statistic: {u_stat}, P-value: {p_value}')\n",
    "\n",
    "# Interpretasi hasil\n",
    "if p_value < 0.05:\n",
    "    print(\"Terdapat perbedaan signifikan dalam jumlah pembayaran antara dua jenis kelamin. Tolak H0, Terima H1.\")\n",
    "else:\n",
    "    print(\"Tidak terdapat perbedaan signifikan dalam jumlah pembayaran antara dua jenis kelamin. Gagal tolak H0, Terima H0.\")"
   ]
  },
  {
   "cell_type": "markdown",
   "metadata": {},
   "source": [
    "# Penjelasan:\n",
    "\n",
    "- Hipotesis Nol (H0): Tidak ada perbedaan signifikan dalam jumlah pembayaran antara dua jenis kelamin.\n",
    "\n",
    "- Hipotesis Alternatif (H1): Ada perbedaan signifikan dalam jumlah pembayaran antara dua jenis kelamin.\n",
    "\n",
    "Dari hasil perhitungan, kita mendapatkan nilai U-statistic sebesar 122335529.5 dan P-value sebesar 0.0011125392491163444. Nilai P-value ini lebih kecil dari 0.05.\n",
    "\n",
    "# Keputusan:\n",
    " Karena P-value < 0.05, kita menolak H0 dan menerima H1. Ini berarti terdapat perbedaan signifikan dalam jumlah pembayaran antara dua jenis kelamin."
   ]
  },
  {
   "cell_type": "markdown",
   "metadata": {},
   "source": [
    "4. Apakah ada perbedaan signifikan dalam rata-rata durasi perjalanan antara beberapa koridor?\n",
    "Metode: Uji ANOVA (Analysis of Variance)"
   ]
  },
  {
   "cell_type": "code",
   "execution_count": 29,
   "metadata": {},
   "outputs": [],
   "source": [
    "# Memilih beberapa koridor untuk dibandingkan\n",
    "durasi_koridor1 = data_cleaned[data_cleaned['corridorName'] == 'Matraman Baru - Ancol']['trip_duration']\n",
    "durasi_koridor2 = data_cleaned[data_cleaned['corridorName'] == 'Tanjung Priok - Pluit']['trip_duration']\n",
    "durasi_koridor3 = data_cleaned[data_cleaned['corridorName'] == 'Senen - Tanah Abang']['trip_duration']\n"
   ]
  },
  {
   "cell_type": "code",
   "execution_count": 30,
   "metadata": {},
   "outputs": [
    {
     "name": "stdout",
     "output_type": "stream",
     "text": [
      "Jumlah data setelah menghapus NaN dan inf untuk koridor 1: 241\n",
      "Jumlah data setelah menghapus NaN dan inf untuk koridor 2: 232\n",
      "Jumlah data setelah menghapus NaN dan inf untuk koridor 3: 36\n"
     ]
    }
   ],
   "source": [
    "# Menghapus nilai NaN dan inf dari ketiga kelompok\n",
    "durasi_koridor1 = durasi_koridor1.dropna()\n",
    "durasi_koridor2 = durasi_koridor2.dropna()\n",
    "durasi_koridor3 = durasi_koridor3.dropna()\n",
    "\n",
    "durasi_koridor1 = durasi_koridor1[~durasi_koridor1.isin([np.inf, -np.inf])]\n",
    "durasi_koridor2 = durasi_koridor2[~durasi_koridor2.isin([np.inf, -np.inf])]\n",
    "durasi_koridor3 = durasi_koridor3[~durasi_koridor3.isin([np.inf, -np.inf])]\n",
    "\n",
    "# Memeriksa kembali data setelah menghapus NaN dan inf\n",
    "print(f\"Jumlah data setelah menghapus NaN dan inf untuk koridor 1: {len(durasi_koridor1)}\")\n",
    "print(f\"Jumlah data setelah menghapus NaN dan inf untuk koridor 2: {len(durasi_koridor2)}\")\n",
    "print(f\"Jumlah data setelah menghapus NaN dan inf untuk koridor 3: {len(durasi_koridor3)}\")"
   ]
  },
  {
   "cell_type": "code",
   "execution_count": 31,
   "metadata": {},
   "outputs": [
    {
     "name": "stdout",
     "output_type": "stream",
     "text": [
      "F-statistic: 0.05891888770734032, P-value: 0.9427897043898488\n",
      "Tidak terdapat perbedaan signifikan dalam rata-rata durasi perjalanan antara koridor-koridor tersebut. Gagal tolak H0, Terima H0.\n"
     ]
    }
   ],
   "source": [
    "\n",
    "# Melakukan uji ANOVA\n",
    "f_stat, p_value = stats.f_oneway(durasi_koridor1, durasi_koridor2, durasi_koridor3)\n",
    "print(f'F-statistic: {f_stat}, P-value: {p_value}')\n",
    "\n",
    "# Interpretasi hasil\n",
    "if p_value < 0.05:\n",
    "    print(\"Terdapat perbedaan signifikan dalam rata-rata durasi perjalanan antara koridor-koridor tersebut. Tolak H0, Terima H1.\")\n",
    "else:\n",
    "    print(\"Tidak terdapat perbedaan signifikan dalam rata-rata durasi perjalanan antara koridor-koridor tersebut. Gagal tolak H0, Terima H0.\")"
   ]
  },
  {
   "cell_type": "markdown",
   "metadata": {},
   "source": [
    "# Penjelasan:\n",
    "- Hipotesis Nol (H0): Tidak ada perbedaan signifikan dalam rata-rata durasi perjalanan antara koridor-koridor yang dianalisis.\n",
    "\n",
    "- Hipotesis Alternatif (H1): Ada perbedaan signifikan dalam rata-rata durasi perjalanan antara koridor-koridor yang dianalisis.\n",
    "\n",
    "Dari hasil perhitungan, kita mendapatkan nilai F-statistic sebesar 0.0509188877734032 dan P-value sebesar 0.9472978043898488. Nilai P-value ini lebih besar dari 0.05.\n",
    "\n",
    "# Keputusan: \n",
    "Karena P-value >= 0.05, kita gagal menolak H0 dan menerima H0. Ini berarti tidak terdapat perbedaan signifikan dalam rata-rata durasi perjalanan antara koridor-koridor yang dianalisis."
   ]
  },
  {
   "cell_type": "markdown",
   "metadata": {},
   "source": [
    "5. Apakah waktu perjalanan (pagi, siang, sore) mempengaruhi durasi perjalanan di berbagai koridor? Metode : Uji ANOVA"
   ]
  },
  {
   "cell_type": "code",
   "execution_count": 32,
   "metadata": {},
   "outputs": [
    {
     "name": "stdout",
     "output_type": "stream",
     "text": [
      "F-statistic: 733.799442027206, P-value: 7.56541040085013e-310\n",
      "Terdapat perbedaan signifikan dalam durasi perjalanan berdasarkan waktu perjalanan. Tolak H0, Terima H1.\n"
     ]
    }
   ],
   "source": [
    "# Tambahkan kolom waktu perjalanan\n",
    "data_cleaned['time_of_day'] = data_cleaned['tapInTime'].dt.hour\n",
    "data_cleaned['time_period'] = pd.cut(data_cleaned['time_of_day'], bins=[0, 6, 12, 18, 24], labels=['Malam', 'Pagi', 'Siang', 'Sore'])\n",
    "\n",
    "# Uji ANOVA berdasarkan waktu perjalanan\n",
    "time_periods = ['Pagi', 'Siang', 'Sore']\n",
    "time_data = {}\n",
    "for period in time_periods:\n",
    "    period_data = data_cleaned[data_cleaned['time_period'] == period]['trip_duration'].dropna()\n",
    "    period_data = period_data[~period_data.isin([np.inf, -np.inf])]\n",
    "    time_data[period] = period_data\n",
    "\n",
    "# Melakukan uji ANOVA hanya jika semua kelompok memiliki data\n",
    "if all(len(data) > 0 for data in time_data.values()):\n",
    "    f_stat, p_value = stats.f_oneway(*time_data.values())\n",
    "    print(f'F-statistic: {f_stat}, P-value: {p_value}')\n",
    "    if p_value < 0.05:\n",
    "        print(\"Terdapat perbedaan signifikan dalam durasi perjalanan berdasarkan waktu perjalanan. Tolak H0, Terima H1.\")\n",
    "    else:\n",
    "        print(\"Tidak terdapat perbedaan signifikan dalam durasi perjalanan berdasarkan waktu perjalanan. Gagal tolak H0, Terima H0.\")\n",
    "else:\n",
    "    print(\"Salah satu kelompok data kosong, tidak bisa melakukan uji ANOVA.\")"
   ]
  },
  {
   "cell_type": "markdown",
   "metadata": {},
   "source": [
    "# Penjelasan:\n",
    "- Hipotesis Nol (H0): Tidak ada perbedaan signifikan dalam durasi perjalanan berdasarkan waktu perjalanan.\n",
    "\n",
    "- Hipotesis Alternatif (H1): Ada perbedaan signifikan dalam durasi perjalanan berdasarkan waktu perjalanan.\n",
    "\n",
    "Dari hasil perhitungan, kita mendapatkan nilai F-statistic sebesar 733.799442027206 dan P-value sebesar 7.5654104085013e-310. Nilai P-value ini jauh lebih kecil dari 0.05.\n",
    "\n",
    "# Keputusan: \n",
    "Karena P-value < 0.05, kita menolak H0 dan menerima H1. Ini berarti terdapat perbedaan signifikan dalam durasi perjalanan berdasarkan waktu perjalanan."
   ]
  },
  {
   "cell_type": "markdown",
   "metadata": {},
   "source": [
    "# VISUALISASI DATA #"
   ]
  },
  {
   "cell_type": "markdown",
   "metadata": {},
   "source": [
    "# **Visualisasi Demografi Pengguna**"
   ]
  },
  {
   "cell_type": "markdown",
   "metadata": {},
   "source": [
    "# **Distribusi Jenis Kelamin** "
   ]
  },
  {
   "cell_type": "markdown",
   "metadata": {},
   "source": [
    "Pada visualisasi ini, ditampilkan distribusi jenis kelamin pengguna dalam bentuk pie chart. Warna pink digunakan untuk perempuan dan warna biru langit digunakan untuk laki-laki."
   ]
  },
  {
   "cell_type": "code",
   "execution_count": 54,
   "metadata": {},
   "outputs": [
    {
     "data": {
      "image/png": "[encoded data removed]",
      "text/plain": [
       "<Figure size 800x600 with 1 Axes>"
      ]
     },
     "metadata": {},
     "output_type": "display_data"
    }
   ],
   "source": [
    "# Menghitung jumlah pengguna berdasarkan jenis kelamin\n",
    "gender_counts = data_cleaned['payCardSex'].value_counts()\n",
    "\n",
    "# Membuat pie chart\n",
    "plt.figure(figsize=(8, 6))\n",
    "plt.pie(gender_counts, labels=gender_counts.index, autopct='%1.1f%%', startangle=140, colors=['lightsalmon', 'cornflowerblue'])\n",
    "plt.title('Distribusi Jenis Kelamin Pengguna')\n",
    "plt.axis('equal')  # Equal aspect ratio ensures that pie is drawn as a circle.\n",
    "plt.show()"
   ]
  },
  {
   "cell_type": "markdown",
   "metadata": {},
   "source": [
    "# Hasil\n",
    "Pie chart di atas menunjukkan distribusi pengguna berdasarkan jenis kelamin. Dari visualisasi tersebut, kita dapat melihat bahwa:\n",
    "\n",
    "1. Pengguna perempuan (F) mendominasi dengan persentase sebesar 53.3%.\n",
    "2. Pengguna laki-laki (M) berjumlah 46.7%.\n",
    "\n",
    "# Analisis\n",
    "\n",
    "1. Kesetaraan Gender:\n",
    "\n",
    "Perbandingan jenis kelamin pengguna yang cukup seimbang menunjukkan bahwa layanan yang disediakan digunakan oleh kedua jenis kelamin. Hal ini bisa menunjukkan bahwa tidak ada bias gender yang signifikan dalam penggunaan layanan ini.\n",
    "\n",
    "2. Strategi Pemasaran:\n",
    "\n",
    "Dengan mengetahui bahwa lebih dari setengah pengguna adalah perempuan, perusahaan dapat mempertimbangkan untuk merancang strategi pemasaran yang lebih fokus pada perempuan, sambil tetap mempertahankan daya tarik untuk pengguna laki-laki.\n",
    "\n",
    "3. Pengembangan Produk:\n",
    "\n",
    "- Penyesuaian Fitur:\n",
    "\n",
    "Jika mayoritas pengguna adalah perempuan, perusahaan dapat mempertimbangkan untuk mengembangkan fitur-fitur yang lebih sesuai dengan preferensi dan kebutuhan perempuan. Misalnya, jika layanan ini adalah layanan keuangan atau pembayaran, mungkin fitur-fitur seperti pengelolaan anggaran rumah tangga, diskon atau promosi pada produk-produk yang sering dibeli oleh perempuan, atau dukungan untuk usaha kecil yang sering dijalankan oleh perempuan dapat diperkenalkan atau ditingkatkan.\n",
    "\n",
    "- Personalisasi Layanan:\n",
    "\n",
    "Menyediakan opsi personalisasi layanan yang dapat dipilih oleh pengguna berdasarkan preferensi gender. Misalnya, memberikan rekomendasi produk atau layanan yang lebih relevan dengan pola penggunaan pengguna perempuan.\n",
    "\n",
    "- Konten yang Relevan:\n",
    "\n",
    "Mengembangkan konten pemasaran atau edukasi yang lebih relevan bagi perempuan, seperti tips keuangan untuk ibu rumah tangga, program loyalitas yang menarik bagi perempuan, dan lain-lain.\n",
    "\n",
    "4. Keputusan Bisnis :\n",
    "Dengan memahami distribusi gender pengguna, stakeholder dapat membuat keputusan bisnis yang lebih terinformasi dalam beberapa aspek berikut:\n",
    "\n",
    "- Segmentasi Pasar:\n",
    "\n",
    "Mengetahui bahwa pengguna perempuan mendominasi, perusahaan dapat mengalokasikan lebih banyak sumber daya untuk menjangkau dan melibatkan segmen pasar ini. Ini dapat mencakup kampanye pemasaran yang ditargetkan, event atau promosi khusus untuk perempuan, dan lain-lain.\n",
    "\n",
    "- Alokasi Anggaran Pemasaran:\n",
    "\n",
    "Alokasi anggaran pemasaran dapat lebih difokuskan pada kanal-kanal yang lebih sering digunakan oleh perempuan, seperti media sosial tertentu, komunitas online, atau influencer yang memiliki pengaruh besar di kalangan perempuan.\n",
    "\n",
    "- Pengembangan Produk:\n",
    "\n",
    "Keputusan untuk mengembangkan atau memperbaiki produk dapat didasarkan pada preferensi pengguna perempuan. Misalnya, jika data menunjukkan bahwa pengguna perempuan lebih sering menggunakan fitur tertentu, perusahaan dapat memprioritaskan pengembangan atau peningkatan fitur tersebut.\n",
    "\n",
    "-Pengembangan Kampanye:\n",
    "\n",
    "Kampanye pemasaran dapat dirancang dengan pesan yang lebih relevan untuk pengguna perempuan, menggunakan bahasa dan visual yang lebih menarik bagi mereka.\n",
    "\n",
    "- Diversifikasi Layanan:\n",
    "\n",
    "Meskipun fokus dapat diberikan pada pengguna perempuan, perusahaan juga perlu memastikan bahwa layanan tetap menarik bagi pengguna laki-laki. Ini bisa berarti menjaga keseimbangan dalam fitur yang ditawarkan dan memastikan bahwa layanan tidak terlihat bias terhadap salah satu gender.\n",
    "\n",
    "**Contoh Implementasi**\n",
    "\n",
    "1. Fitur Spesifik:\n",
    "\n",
    "Perusahaan e-commerce mungkin menyediakan kategori produk khusus untuk perempuan dengan penawaran diskon khusus, atau layanan keuangan dapat menyediakan program edukasi keuangan untuk ibu rumah tangga.\n",
    "\n",
    "2. Konten Marketing:\n",
    "\n",
    "Membuat artikel atau video tentang manajemen keuangan keluarga yang mungkin lebih relevan dan menarik bagi perempuan.\n",
    "\n",
    "3. Promosi dan Event:\n",
    "\n",
    "Mengadakan event atau promo khusus pada hari-hari tertentu seperti Hari Kartini atau Hari Ibu yang mungkin lebih menarik bagi perempuan."
   ]
  },
  {
   "cell_type": "markdown",
   "metadata": {},
   "source": [
    "# **Distribusi Usia Pengguna**"
   ]
  },
  {
   "cell_type": "code",
   "execution_count": 34,
   "metadata": {},
   "outputs": [
    {
     "data": {
      "image/png": "[encoded data removed]",
      "text/plain": [
       "<Figure size 1000x600 with 1 Axes>"
      ]
     },
     "metadata": {},
     "output_type": "display_data"
    }
   ],
   "source": [
    "# Mengelompokkan usia ke dalam rentang\n",
    "age_bins = [10, 20, 30, 40, 50, 60, 70, 80]\n",
    "age_labels = ['10-19', '20-29', '30-39', '40-49', '50-59', '60-69', '70-79']\n",
    "data_cleaned['age_group'] = pd.cut(data_cleaned['age'], bins=age_bins, labels=age_labels, right=False)\n",
    "\n",
    "# Menghitung jumlah pengguna dalam setiap rentang usia\n",
    "age_group_counts = data_cleaned['age_group'].value_counts().sort_index()\n",
    "\n",
    "# Membuat bar plot \n",
    "plt.figure(figsize=(10, 6))\n",
    "sns.barplot(x=age_group_counts.index, y=age_group_counts.values, palette='coolwarm')\n",
    "plt.title('Distribusi Pengguna Berdasarkan Rentang Usia')\n",
    "plt.xlabel('Rentang Usia')\n",
    "plt.ylabel('Jumlah Pengguna')\n",
    "plt.show()"
   ]
  },
  {
   "cell_type": "markdown",
   "metadata": {},
   "source": [
    "# Analisis Distribusi Pengguna Berdasarkan Rentang Usia\n",
    "\n",
    "1. Kelompok Usia Terbesar:\n",
    "\n",
    "Rentang usia 30-39 memiliki jumlah pengguna terbanyak, yaitu sekitar 8000 pengguna.\n",
    "Ini menunjukkan bahwa layanan ini paling populer di kalangan orang dewasa muda hingga setengah baya.\n",
    "\n",
    "2. Kelompok Usia Menengah:\n",
    "\n",
    "Rentang usia 20-29 dan 40-49 juga memiliki jumlah pengguna yang signifikan, masing-masing sekitar 7000 dan 6000 pengguna.\n",
    "Ini menunjukkan bahwa layanan ini juga menarik bagi orang dewasa muda dan dewasa pertengahan.\n",
    "\n",
    "3. Kelompok Usia Lebih Muda:\n",
    "\n",
    "Rentang usia 10-19 memiliki sekitar 6000 pengguna.\n",
    "Menunjukkan bahwa layanan ini juga digunakan oleh remaja, meskipun tidak sebanyak kelompok usia dewasa muda.\n",
    "\n",
    "4. Kelompok Usia Lebih Tua:\n",
    "\n",
    "Rentang usia 50-59 memiliki sekitar 4000 pengguna.\n",
    "Rentang usia 60-69 dan 70-79 memiliki pengguna yang lebih sedikit, masing-masing sekitar 1000 pengguna.\n",
    "Menunjukkan bahwa layanan ini kurang populer di kalangan orang yang lebih tua.\n",
    "\n",
    "# Implikasi untuk Bisnis\n",
    "\n",
    "1. Target Pasar Utama:\n",
    "\n",
    "Perusahaan dapat memfokuskan upaya pemasaran dan pengembangan produk pada kelompok usia 30-39 karena mereka merupakan pengguna terbesar.\n",
    "Kampanye pemasaran yang disesuaikan dengan kebutuhan dan preferensi kelompok usia ini kemungkinan besar akan memberikan hasil yang baik.\n",
    "\n",
    "2. Pengembangan Fitur:\n",
    "\n",
    "Mengembangkan fitur yang sesuai dengan kehidupan profesional dan personal kelompok usia 30-39 dan 20-29, seperti fitur manajemen keuangan, investasi, atau penawaran khusus untuk keluarga muda.\n",
    "Untuk kelompok usia 40-49, mungkin fitur yang terkait dengan perencanaan pensiun atau pendidikan anak bisa lebih relevan.\n",
    "\n",
    "3. Segmentasi Pemasaran:\n",
    "\n",
    "Membuat segmentasi yang lebih spesifik berdasarkan rentang usia untuk kampanye pemasaran.\n",
    "Menggunakan kanal pemasaran yang populer di kalangan setiap rentang usia, seperti media sosial untuk kelompok usia lebih muda dan email marketing atau iklan televisi untuk kelompok usia lebih tua.\n",
    "\n",
    "4. Personalisasi Layanan:\n",
    "\n",
    "Menawarkan personalisasi layanan berdasarkan usia pengguna untuk meningkatkan kepuasan dan retensi pelanggan.\n",
    "Misalnya, penawaran produk atau layanan yang relevan dengan kebutuhan kelompok usia tertentu, seperti promosi khusus untuk ulang tahun atau milestone tertentu dalam kehidupan.\n",
    "\n",
    "# Kesimpulan :\n",
    "Grafik ini memberikan wawasan yang berharga tentang demografi pengguna layanan berdasarkan usia. Dengan memahami distribusi usia pengguna, perusahaan dapat membuat keputusan yang lebih tepat dalam pengembangan produk, pemasaran, dan personalisasi layanan, sehingga dapat meningkatkan kepuasan pelanggan dan keuntungan bisnis secara keseluruhan."
   ]
  },
  {
   "cell_type": "markdown",
   "metadata": {},
   "source": [
    "# **Distribusi Bank Penerbit Kartu**"
   ]
  },
  {
   "cell_type": "code",
   "execution_count": 35,
   "metadata": {},
   "outputs": [
    {
     "data": {
      "image/png": "[encoded data removed]",
      "text/plain": [
       "<Figure size 1200x600 with 1 Axes>"
      ]
     },
     "metadata": {},
     "output_type": "display_data"
    }
   ],
   "source": [
    "plt.figure(figsize=(12, 6))\n",
    "sns.countplot(data=data_cleaned, x='payCardBank', palette='coolwarm')\n",
    "plt.title('Distribusi Bank Penerbit Kartu')\n",
    "plt.xlabel('Bank')\n",
    "plt.ylabel('Jumlah Pengguna')\n",
    "plt.xticks(rotation=90)\n",
    "plt.show()"
   ]
  },
  {
   "cell_type": "markdown",
   "metadata": {},
   "source": [
    "# Analisis Distribusi Pengguna Berdasarkan Bank Penerbit Kartu\n",
    "\n",
    "1. Bank Penerbit dengan Pengguna Terbanyak:\n",
    "\n",
    "- Bank DKI memiliki jumlah pengguna terbanyak, yaitu sekitar 16000 pengguna.\n",
    "Ini menunjukkan bahwa kartu yang diterbitkan oleh Bank DKI sangat populer di kalangan pengguna.\n",
    "\n",
    "2. Bank Penerbit Lainnya:\n",
    "\n",
    "- E-money (dari Bank Mandiri) adalah penerbit kartu dengan jumlah pengguna terbanyak kedua, yaitu sekitar 6000 pengguna.\n",
    "- Flazz ( dari BCA), Online (bisa jadi dari berbagai bank), Brizzi (dari BRI), dan BNI masing-masing memiliki jumlah pengguna yang lebih rendah, berkisar antara 2000 hingga 3000 pengguna.\n",
    "Ini menunjukkan bahwa meskipun kartu dari bank-bank ini digunakan, popularitasnya tidak sebesar kartu dari Bank DKI.\n",
    "\n",
    "# Implikasi untuk Bisnis\n",
    "\n",
    "1. Kemitraan dengan Bank DKI:\n",
    "\n",
    "Perusahaan dapat mempertimbangkan untuk menjalin kemitraan strategis dengan Bank DKI untuk promosi bersama atau penawaran khusus bagi pengguna kartu Bank DKI.\n",
    "Program loyalitas atau diskon eksklusif untuk pengguna kartu Bank DKI bisa menjadi strategi yang efektif untuk menarik dan mempertahankan pelanggan.\n",
    "\n",
    "2. Promosi kepada Pengguna E-money:\n",
    "\n",
    "Meskipun tidak sebesar Bank DKI, pengguna E-money juga cukup banyak. Perusahaan bisa menawarkan promo khusus untuk pengguna E-money untuk meningkatkan penggunaan dan loyalitas mereka.\n",
    "\n",
    "3. Pengembangan Produk:\n",
    "\n",
    "- Pemahaman Lebih Lanjut:\n",
    "\n",
    "Analisis lebih mendalam diperlukan untuk memahami mengapa kartu dari Bank DKI dan E-money lebih populer dibandingkan dengan bank lain. Ini bisa mencakup survei pengguna untuk mendapatkan wawasan tentang fitur dan layanan yang diinginkan atau mungkin ada aspek kepercayaan dan reputasi yang lebih tinggi untuk bank-bank ini.\n",
    "Bank DKI, misalnya, bekerja sama erat dengan PT Transjakarta dalam penyediaan layanan pembayaran untuk transportasi umum, yang berkontribusi pada popularitasnya. Bank DKI mendukung program transportasi ramah lingkungan di Jakarta, yang juga bisa menjadi faktor peningkat popularitas kartu mereka.\n",
    "\n",
    "- Pengembangan Fitur Tambahan:\n",
    "\n",
    "Fitur tambahan bisa dikembangkan untuk menarik pengguna dari bank lain, seperti program loyalitas khusus, diskon eksklusif untuk pengguna kartu tersebut, atau integrasi pembayaran yang lebih mulus dan aman.\n",
    "Bank DKI bisa mempertimbangkan untuk memperluas layanan dan fitur mereka yang mendukung transportasi umum dan ramah lingkungan. Misalnya, program penawaran khusus untuk pengguna transportasi umum atau insentif untuk penggunaan kendaraan listrik.\n",
    "\n",
    "4. Segmentasi Pemasaran:\n",
    "\n",
    "- Kampanye Pemasaran yang Ditargetkan:\n",
    "\n",
    "Berdasarkan data distribusi, kampanye pemasaran dapat difokuskan pada pengguna kartu Bank DKI dan E-money dengan menonjolkan fitur-fitur unggulan dan keuntungannya. Ini bisa mencakup promosi di platform yang sering digunakan oleh pengguna transportasi umum.\n",
    "Kampanye terpisah bisa dirancang untuk bank lain dengan menekankan fitur-fitur yang mungkin belum mereka manfaatkan, atau kolaborasi dengan merchant-merchant untuk memberikan penawaran eksklusif bagi pengguna kartu dari bank tersebut.\n",
    "\n",
    "- Segmentasi Pasar:\n",
    "\n",
    "Dengan data ini, perusahaan dapat melakukan segmentasi pasar yang lebih tepat. Misalnya, pengguna kartu Bank DKI bisa diklasifikasikan sebagai pengguna yang sering menggunakan transportasi umum, sehingga kampanye terkait bisa fokus pada kenyamanan dan kemudahan dalam penggunaan kartu untuk transportasi.\n",
    "Sementara itu, kampanye untuk pengguna kartu dari bank lain bisa difokuskan pada peningkatan kesadaran fitur-fitur dan keuntungan penggunaan kartu tersebut di berbagai sektor lain selain transportasi.\n",
    "\n",
    "# Informasi tambahan :\n",
    "Bank DKI telah mengambil langkah-langkah proaktif dalam mendukung transportasi ramah lingkungan di Jakarta, termasuk pembiayaan bus listrik dan kerjasama dengan PT Transjakarta. Ini menunjukkan bahwa Bank DKI memiliki komitmen kuat dalam mendukung inisiatif pemerintah daerah dan menyediakan layanan yang relevan dengan kebutuhan masyarakat Jakarta.\n",
    "\n",
    "Kolaborasi ini bisa dijadikan analisis bahwa popularitas kartu Bank DKI sangat dipengaruhi oleh keterlibatan mereka dalam proyek-proyek infrastruktur penting di Jakarta. Hal ini juga menunjukkan bahwa kolaborasi dengan institusi pemerintah dan proyek-proyek besar bisa meningkatkan adopsi dan penggunaan produk perbankan tertentu.\n",
    "\n",
    "# Kesimpulan\n",
    "Bank DKI dan E-money memiliki distribusi pengguna yang lebih tinggi karena kerjasama strategis dengan PT Transjakarta dan fokus pada transportasi ramah lingkungan.\n",
    "Pengembangan fitur dan layanan yang mendukung inisiatif transportasi dan ramah lingkungan bisa menjadi strategi yang efektif untuk meningkatkan adopsi kartu dari bank lain.\n",
    "Kampanye pemasaran yang ditargetkan dan segmentasi pasar berdasarkan data distribusi pengguna bisa membantu dalam alokasi sumber daya yang lebih efektif dan peningkatan penggunaan kartu.\n",
    "Dengan informasi ini, perusahaan dapat membuat strategi yang lebih informatif dan data-driven untuk meningkatkan penggunaan kartu serta mendukung inisiatif ramah lingkungan di Jakarta.\n"
   ]
  },
  {
   "cell_type": "markdown",
   "metadata": {},
   "source": [
    "# **Rata-rata Durasi Perjalanan Berdasarkan Waktu Perjalanan**"
   ]
  },
  {
   "cell_type": "code",
   "execution_count": 42,
   "metadata": {},
   "outputs": [
    {
     "data": {
      "image/png": "[encoded data removed]",
      "text/plain": [
       "<Figure size 1000x600 with 1 Axes>"
      ]
     },
     "metadata": {},
     "output_type": "display_data"
    }
   ],
   "source": [
    "plt.figure(figsize=(10, 6))\n",
    "sns.barplot(data=data_cleaned, x='time_period', y='trip_duration', ci=None, palette='coolwarm')\n",
    "plt.title('Rata-rata Durasi Perjalanan Berdasarkan Waktu Perjalanan')\n",
    "plt.xlabel('Waktu Perjalanan')\n",
    "plt.ylabel('Rata-rata Durasi Perjalanan (menit)')\n",
    "plt.show()"
   ]
  },
  {
   "cell_type": "markdown",
   "metadata": {},
   "source": [
    "# Analisis Rata-rata Durasi Perjalanan Berdasarkan Waktu Perjalanan\n",
    "Grafik ini menunjukkan rata-rata durasi perjalanan di berbagai koridor Transjakarta berdasarkan waktu perjalanan, yaitu malam, pagi, siang, dan sore.\n",
    "\n",
    "# Analisis\n",
    "\n",
    "1. Durasi Perjalanan di Malam Hari:\n",
    "\n",
    "Rata-rata durasi perjalanan di malam hari adalah yang terpendek dibandingkan dengan waktu-waktu lainnya. Hal ini kemungkinan besar disebabkan oleh lalu lintas yang lebih lancar di malam hari karena volume kendaraan yang lebih sedikit.\n",
    "\n",
    "2. Durasi Perjalanan di Pagi Hari:\n",
    "\n",
    "Rata-rata durasi perjalanan di pagi hari lebih lama dibandingkan malam hari. Ini bisa disebabkan oleh jam sibuk pagi di mana banyak orang berangkat kerja atau sekolah, sehingga lalu lintas menjadi lebih padat.\n",
    "\n",
    "3. Durasi Perjalanan di Siang Hari:\n",
    "\n",
    "Rata-rata durasi perjalanan di siang hari adalah yang tertinggi, hampir sama dengan sore hari. Ini mungkin karena volume kendaraan yang tinggi saat orang beraktivitas dan juga bisa jadi dipengaruhi oleh faktor cuaca seperti panas terik yang bisa mempengaruhi kecepatan perjalanan.\n",
    "\n",
    "4. Durasi Perjalanan di Sore Hari:\n",
    "\n",
    "Rata-rata durasi perjalanan di sore hari juga tinggi, hampir sama dengan siang hari. Hal ini disebabkan oleh jam pulang kerja di mana banyak orang kembali ke rumah, menyebabkan kepadatan lalu lintas yang signifikan.\n",
    "\n",
    "# Insight :\n",
    "\n",
    "- Optimalisasi Rute dan Jadwal: \n",
    "Berdasarkan analisis ini, Transjakarta dapat mempertimbangkan untuk mengoptimalkan rute dan jadwal layanan mereka di waktu-waktu tertentu, seperti meningkatkan frekuensi bus di pagi, siang, dan sore hari untuk mengakomodasi volume penumpang yang tinggi dan mengurangi durasi perjalanan.\n",
    "\n",
    "- Manajemen Lalu Lintas: \n",
    "Pemerintah daerah dan pengelola transportasi umum bisa menggunakan data ini untuk mengembangkan strategi manajemen lalu lintas yang lebih baik selama jam-jam sibuk, seperti pemberlakuan jalur khusus untuk bus Transjakarta yang lebih ketat untuk memastikan perjalanan lebih lancar dan cepat.\n",
    "\n",
    "- Informasi kepada Penumpang: \n",
    "Informasi tentang durasi perjalanan rata-rata di waktu-waktu tertentu bisa disampaikan kepada penumpang untuk membantu mereka merencanakan perjalanan dengan lebih baik dan mungkin memilih waktu perjalanan yang lebih tidak padat.\n",
    "\n",
    "# Keputusan Bisnis\n",
    "\n",
    "- Pengembangan Layanan: \n",
    "Untuk meningkatkan pengalaman pengguna, Transjakarta bisa mempertimbangkan untuk menambahkan lebih banyak armada selama jam-jam sibuk atau mengembangkan rute alternatif yang bisa membantu mengurangi kepadatan.\n",
    "\n",
    "- Promosi Waktu Perjalanan: \n",
    "Promosi atau insentif untuk penumpang yang melakukan perjalanan di waktu yang lebih tidak sibuk, seperti malam hari, bisa dilakukan untuk mengurangi beban pada waktu-waktu sibuk."
   ]
  },
  {
   "cell_type": "markdown",
   "metadata": {},
   "source": [
    "# **Rata-rata Durasi Perjalanan Berdasarkan Koridor**"
   ]
  },
  {
   "cell_type": "markdown",
   "metadata": {},
   "source": [
    "Rata-rata Durasi Perjalanan Berdasarkan Koridor (5 Terpendek & 5 Terpanjang)"
   ]
  },
  {
   "cell_type": "code",
   "execution_count": 47,
   "metadata": {},
   "outputs": [
    {
     "data": {
      "image/png": "[encoded data removed]",
      "text/plain": [
       "<Figure size 1200x800 with 1 Axes>"
      ]
     },
     "metadata": {},
     "output_type": "display_data"
    }
   ],
   "source": [
    "# Membuat DataFrame untuk visualisasi\n",
    "average_durations = {koridor: data.mean() for koridor, data in cleaned_data.items()}\n",
    "average_durations_df = pd.DataFrame.from_dict(average_durations, orient='index', columns=['Average Duration'])\n",
    "average_durations_df.reset_index(inplace=True)\n",
    "average_durations_df.rename(columns={'index': 'Corridor'}, inplace=True)\n",
    "\n",
    "# Sortir koridor berdasarkan rata-rata durasi perjalanan\n",
    "sorted_durations_df = average_durations_df.sort_values(by='Average Duration')\n",
    "\n",
    "# Pilih 5 koridor teratas dan 5 koridor terbawah\n",
    "top_5_shortest = sorted_durations_df.head(5)\n",
    "top_5_longest = sorted_durations_df.tail(5)\n",
    "\n",
    "# Gabungkan dua subset ini\n",
    "combined_df = pd.concat([top_5_shortest, top_5_longest])\n",
    "\n",
    "# Visualisasi hasil dengan bar plot\n",
    "plt.figure(figsize=(12, 8))\n",
    "sns.barplot(x='Average Duration', y='Corridor', data=combined_df, palette='coolwarm')\n",
    "plt.title('Rata-rata Durasi Perjalanan Berdasarkan Koridor (5 Terpendek & 5 Terpanjang)')\n",
    "plt.xlabel('Rata-rata Durasi Perjalanan (menit)')\n",
    "plt.ylabel('Koridor')\n",
    "plt.show()"
   ]
  },
  {
   "cell_type": "markdown",
   "metadata": {},
   "source": [
    "### Analisis Grafik Rata-rata Durasi Perjalanan Berdasarkan Koridor (5 Terpendek & 5 Terpanjang)\n",
    "\n",
    "Grafik di atas menunjukkan rata-rata durasi perjalanan untuk 5 koridor dengan durasi terpendek dan 5 koridor dengan durasi terpanjang. Berdasarkan hasil uji ANOVA, terdapat perbedaan signifikan dalam rata-rata durasi perjalanan antara koridor-koridor tersebut.\n",
    "\n",
    "**Temuan Utama:**\n",
    "1. **Koridor dengan Durasi Terpendek:** \n",
    "   - Pulo Gebang - Pulo Gadung 2\n",
    "   - Pulo Gadung 2 - Dukuh Atas 2\n",
    "   - Pasar Minggu - Jagakarsa\n",
    "   - Tanah Abang - Blok M\n",
    "   - Stasiun Tebet - BNN\n",
    "\n",
    "2. **Koridor dengan Durasi Terpanjang:**\n",
    "   - Puri Kembangan - Sentraland Cengkareng\n",
    "   - Rawamangun - Klender\n",
    "   - Senen - Pulo Gadung via Kelapa Gading\n",
    "   - Rusun Pinus Elok - Rusun Pulo Gebang\n",
    "   - Stasiun Palmerah - Tosari\n",
    "\n",
    "**Implikasi Bisnis:**\n",
    "\n",
    "1. **Optimalisasi Operasional:**\n",
    "   - **Peninjauan Lebih Lanjut:** Koridor dengan durasi perjalanan terpanjang perlu ditinjau lebih lanjut untuk mengidentifikasi faktor-faktor yang menyebabkan waktu tempuh yang lama. Hal ini dapat mencakup analisis terhadap kondisi lalu lintas, frekuensi bus, dan efisiensi rute.\n",
    "   - **Solusi Efisiensi:** Berdasarkan temuan dari peninjauan tersebut, langkah-langkah spesifik dapat diambil untuk mengoptimalkan efisiensi perjalanan. Misalnya, menambah frekuensi bus pada jam sibuk, mengubah rute untuk menghindari kemacetan, atau meningkatkan koordinasi dengan pihak terkait untuk mempercepat perjalanan.\n",
    "\n",
    "2. **Pengembangan Infrastruktur:**\n",
    "   - **Identifikasi Kendala:** Jika ditemukan kendala infrastruktur seperti jalan yang sempit, kondisi jalan yang buruk, atau kurangnya fasilitas penunjang di sepanjang koridor dengan durasi perjalanan terpanjang, langkah-langkah perbaikan perlu direncanakan.\n",
    "   - **Implementasi Perbaikan:** Mengalokasikan dana dan sumber daya untuk memperbaiki infrastruktur di koridor-koridor yang bermasalah. Misalnya, memperlebar jalan, memperbaiki kondisi jalan, atau menambahkan halte bus yang lebih baik.\n",
    "\n",
    "3. **Perencanaan Jadwal:**\n",
    "   - **Optimasi Jadwal:** Data ini dapat digunakan untuk mengoptimalkan perencanaan jadwal bus, khususnya pada koridor dengan durasi perjalanan yang lebih lama. Dengan penyesuaian jadwal yang tepat, waktu tunggu penumpang dapat dikurangi dan efisiensi operasional dapat ditingkatkan.\n",
    "   - **Alokasi Sumber Daya:** Berdasarkan analisis durasi perjalanan, alokasi sumber daya seperti jumlah bus dan pengaturan shift pengemudi dapat diatur lebih baik untuk mengurangi beban pada koridor yang memiliki durasi perjalanan yang lebih lama."
   ]
  },
  {
   "cell_type": "markdown",
   "metadata": {},
   "source": [
    "# **Rata-rata Pembayaran Berdasarkan Jenis Kelamin**"
   ]
  },
  {
   "cell_type": "code",
   "execution_count": 44,
   "metadata": {},
   "outputs": [
    {
     "name": "stdout",
     "output_type": "stream",
     "text": [
      "  payCardSex  average_payment\n",
      "0          F      1837.306573\n",
      "1          M      1903.741278\n"
     ]
    },
    {
     "data": {
      "image/png": "[encoded data removed]",
      "text/plain": [
       "<Figure size 800x600 with 1 Axes>"
      ]
     },
     "metadata": {},
     "output_type": "display_data"
    }
   ],
   "source": [
    "# Rata-rata pembayaran berdasarkan jenis kelamin\n",
    "average_payment_sex = data_cleaned.groupby('payCardSex')['payAmount'].mean().reset_index(name='average_payment')\n",
    "print(average_payment_sex)\n",
    "\n",
    "# Visualisasi Rata-rata Pembayaran Berdasarkan Jenis Kelamin\n",
    "plt.figure(figsize=(8, 6))\n",
    "sns.barplot(x='payCardSex', y='average_payment', data=average_payment_sex, palette='coolwarm')\n",
    "plt.title('Rata-rata Pembayaran Berdasarkan Jenis Kelamin')\n",
    "plt.xlabel('Jenis Kelamin')\n",
    "plt.ylabel('Rata-rata Pembayaran')\n",
    "plt.show()"
   ]
  },
  {
   "cell_type": "markdown",
   "metadata": {},
   "source": [
    "### Analisis Grafik Rata-rata Pembayaran Berdasarkan Jenis Kelamin\n",
    "\n",
    "Grafik di atas menunjukkan rata-rata jumlah pembayaran yang dilakukan oleh pengguna berdasarkan jenis kelamin mereka. Pada grafik ini, warna biru mewakili pengguna perempuan (F) dan warna hijau mewakili pengguna laki-laki (M).\n",
    "\n",
    "**Hasil Utama:**\n",
    "- Rata-rata pembayaran yang dilakukan oleh pengguna perempuan adalah sekitar 1837.31.\n",
    "- Rata-rata pembayaran yang dilakukan oleh pengguna laki-laki adalah sekitar 1903.74.\n",
    "\n",
    "### Implikasi Bisnis\n",
    "\n",
    "#### Strategi Pemasaran\n",
    "\n",
    "1. **Penawaran Khusus:**\n",
    "   - **Diskon atau Cashback untuk Perempuan:** Mengingat rata-rata pembayaran pengguna perempuan sedikit lebih rendah, perusahaan dapat merancang program diskon atau cashback untuk jenis pembayaran tertentu yang sering dilakukan oleh perempuan. Contohnya, diskon khusus untuk pembelian produk fashion atau kecantikan, yang mungkin lebih sering dibeli oleh perempuan.\n",
    "   - **Paket Bundling untuk Laki-laki:** Pengguna laki-laki cenderung memiliki rata-rata pembayaran yang lebih tinggi. Oleh karena itu, perusahaan bisa menawarkan paket bundling yang menarik untuk layanan atau produk yang lebih sering digunakan oleh laki-laki, seperti elektronik atau produk teknologi.\n",
    "   - **Promosi Hari Perempuan:** Mengadakan promosi khusus pada hari-hari tertentu yang mungkin lebih menarik bagi perempuan, seperti Hari Perempuan Internasional, dengan penawaran spesial yang eksklusif untuk pengguna perempuan.\n",
    "\n",
    "2. **Kampanye Pemasaran yang Ditargetkan:**\n",
    "   - **Iklan Berbasis Gender:** Menggunakan data ini untuk mengembangkan kampanye iklan yang disesuaikan dengan preferensi dan kebiasaan belanja masing-masing kelompok. Misalnya, iklan di media sosial yang menargetkan perempuan dengan konten yang relevan dengan minat mereka, dan sebaliknya untuk laki-laki.\n",
    "   - **Personalized Marketing:** Memanfaatkan analitik untuk mengirimkan penawaran yang dipersonalisasi melalui email atau aplikasi, berdasarkan riwayat pembayaran dan preferensi pengguna. Ini akan meningkatkan relevansi penawaran dan kemungkinan pengguna akan merespons dengan positif.\n",
    "   - **Program Loyalitas Khusus:** Membuat program loyalitas yang dirancang khusus untuk laki-laki dan perempuan, dengan hadiah atau insentif yang berbeda sesuai dengan pola pembayaran mereka. Misalnya, program loyalitas yang memberikan poin tambahan untuk kategori produk yang lebih sering dibeli oleh perempuan.\n",
    "\n",
    "#### Pengembangan Produk\n",
    "\n",
    "1. **Kebutuhan Spesifik:**\n",
    "   - **Fitur Khusus untuk Laki-laki:** Jika analisis lebih lanjut menunjukkan bahwa laki-laki lebih sering melakukan pembayaran untuk layanan tertentu, perusahaan bisa mengembangkan lebih banyak fitur yang menarik bagi mereka. Misalnya, fitur tambahan untuk transaksi elektronik atau produk teknologi yang sering dibeli oleh laki-laki.\n",
    "   - **Produk yang Lebih Menarik untuk Perempuan:** Untuk pengguna perempuan, perusahaan bisa mengeksplorasi produk atau layanan yang lebih relevan dengan kebutuhan mereka. Misalnya, layanan berlangganan untuk produk kecantikan atau mode yang sering diminati oleh perempuan.\n",
    "\n",
    "2. **Kenyamanan Pembayaran:**\n",
    "   - **Metode Pembayaran yang Lebih Mudah:** Untuk meningkatkan rata-rata pembayaran pengguna perempuan, perusahaan bisa mengeksplorasi cara untuk membuat proses pembayaran lebih mudah dan nyaman. Misalnya, menambahkan opsi pembayaran yang lebih beragam atau integrasi dengan aplikasi pembayaran yang sering digunakan oleh perempuan.\n",
    "   - **Insentif Pembayaran:** Memberikan insentif tambahan seperti poin reward atau diskon untuk setiap transaksi yang dilakukan oleh pengguna perempuan bisa meningkatkan jumlah pembayaran mereka. Ini juga bisa mendorong mereka untuk melakukan transaksi lebih sering.\n"
   ]
  },
  {
   "cell_type": "markdown",
   "metadata": {},
   "source": [
    "# **Rata-rata Pembayaran Berdasarkan Bank Penerbit Kartu**"
   ]
  },
  {
   "cell_type": "code",
   "execution_count": 45,
   "metadata": {},
   "outputs": [
    {
     "data": {
      "image/png": "[encoded data removed]",
      "text/plain": [
       "<Figure size 1200x600 with 1 Axes>"
      ]
     },
     "metadata": {},
     "output_type": "display_data"
    }
   ],
   "source": [
    "average_payment_bank = data_cleaned.groupby('payCardBank')['payAmount'].mean().reset_index(name='average_payment')\n",
    "\n",
    "plt.figure(figsize=(12, 6))\n",
    "sns.barplot(x='payCardBank', y='average_payment', data=average_payment_bank, palette='coolwarm')\n",
    "plt.title('Rata-rata Pembayaran Berdasarkan Bank Penerbit Kartu')\n",
    "plt.xlabel('Bank')\n",
    "plt.ylabel('Rata-rata Pembayaran')\n",
    "plt.xticks(rotation=90)\n",
    "plt.show()"
   ]
  },
  {
   "cell_type": "markdown",
   "metadata": {},
   "source": [
    "### Analisis Grafik Rata-rata Pembayaran Berdasarkan Bank Penerbit Kartu\n",
    "\n",
    "Grafik di atas menunjukkan rata-rata jumlah pembayaran yang dilakukan oleh pengguna berdasarkan bank penerbit kartu mereka. Bank-bank yang ditampilkan termasuk BNI, BRIZZI, DKI, Emoney, Flazz, dan Online.\n",
    "\n",
    "**Hasil Utama:**\n",
    "- Rata-rata pembayaran tertinggi dilakukan oleh pengguna kartu Flazz, diikuti oleh pengguna kartu BRIZZI.\n",
    "- Pengguna kartu DKI dan Emoney memiliki rata-rata pembayaran yang hampir sama.\n",
    "- Pengguna kartu Online memiliki rata-rata pembayaran terendah di antara semua bank yang ditampilkan.\n",
    "\n",
    "### Implikasi Bisnis\n",
    "\n",
    "#### Strategi Pemasaran\n",
    "\n",
    "1. **Penawaran Khusus:**\n",
    "   - **Diskon atau Cashback untuk Pengguna Kartu Flazz dan BRIZZI:** Mengingat rata-rata pembayaran tertinggi berasal dari pengguna kartu Flazz dan BRIZZI, perusahaan dapat merancang program diskon atau cashback khusus untuk transaksi yang dilakukan dengan kartu-kartu ini. Hal ini dapat mendorong pengguna untuk melakukan lebih banyak transaksi dengan kartu tersebut.\n",
    "   - **Promosi untuk Pengguna Kartu dengan Pembayaran Rendah:** Untuk meningkatkan jumlah pembayaran pengguna kartu Online, perusahaan bisa memberikan insentif tambahan seperti diskon atau hadiah untuk meningkatkan penggunaan kartu ini.\n",
    "\n",
    "2. **Kampanye Pemasaran yang Ditargetkan:**\n",
    "   - **Iklan Berbasis Bank Penerbit:** Menggunakan data ini untuk mengembangkan kampanye iklan yang disesuaikan dengan preferensi pengguna berdasarkan bank penerbit kartu. Misalnya, iklan yang menargetkan pengguna kartu Flazz dengan penawaran khusus untuk produk atau layanan yang sering mereka beli.\n",
    "   - **Segmentasi Pasar:** Mengidentifikasi segmen pasar yang menggunakan kartu-kartu dengan pembayaran tinggi dan mengarahkan kampanye pemasaran yang lebih intensif kepada mereka untuk meningkatkan loyalitas dan frekuensi penggunaan kartu.\n",
    "\n",
    "#### Pengembangan Produk\n",
    "\n",
    "1. **Fitur Khusus untuk Kartu dengan Pembayaran Tinggi:**\n",
    "   - **Pengembangan Layanan:** Jika analisis lebih lanjut menunjukkan bahwa pengguna kartu Flazz dan BRIZZI lebih sering melakukan pembayaran untuk layanan tertentu, perusahaan bisa mengembangkan lebih banyak fitur atau layanan yang menarik bagi mereka. Misalnya, fitur tambahan untuk transaksi di merchant favorit pengguna kartu-kartu tersebut.\n",
    "   - **Integrasi dengan Merchant Populer:** Memastikan kartu-kartu dengan rata-rata pembayaran tinggi memiliki integrasi yang lancar dengan merchant populer yang sering digunakan oleh pengguna kartu tersebut.\n",
    "\n",
    "2. **Kenyamanan Pembayaran:**\n",
    "   - **Peningkatan Metode Pembayaran untuk Kartu dengan Pembayaran Rendah:** Untuk meningkatkan rata-rata pembayaran pengguna kartu Online, perusahaan bisa mengeksplorasi cara untuk membuat proses pembayaran lebih mudah dan nyaman. Misalnya, menambahkan opsi pembayaran yang lebih beragam atau meningkatkan teknologi keamanan untuk pengguna kartu Online.\n",
    "   - **Insentif Pembayaran:** Memberikan insentif tambahan seperti poin reward atau diskon untuk setiap transaksi yang dilakukan oleh pengguna kartu Online bisa meningkatkan jumlah pembayaran mereka. Ini juga bisa mendorong mereka untuk melakukan transaksi lebih sering.\n"
   ]
  },
  {
   "cell_type": "markdown",
   "metadata": {},
   "source": [
    "# **Rata-rata Jumlah Pembayaran Berdasarkan Kelompok Usia**"
   ]
  },
  {
   "cell_type": "code",
   "execution_count": 46,
   "metadata": {},
   "outputs": [
    {
     "data": {
      "image/png": "[encoded data removed]",
      "text/plain": [
       "<Figure size 1200x600 with 1 Axes>"
      ]
     },
     "metadata": {},
     "output_type": "display_data"
    }
   ],
   "source": [
    "# Binning the age to create groups\n",
    "data_cleaned['age_group'] = pd.cut(data_cleaned['age'], bins=[0, 20, 30, 40, 50, 60, 70, 80, 90, 100],\n",
    "                                   labels=['0-20', '21-30', '31-40', '41-50', '51-60', '61-70', '71-80', '81-90', '91-100'])\n",
    "\n",
    "# Calculate mean payAmount for each age group\n",
    "age_group_payment = data_cleaned.groupby('age_group')['payAmount'].mean().reset_index()\n",
    "\n",
    "plt.figure(figsize=(12, 6))\n",
    "sns.barplot(x='age_group', y='payAmount', data=age_group_payment, palette='coolwarm')\n",
    "plt.title('Rata-rata Jumlah Pembayaran Berdasarkan Kelompok Usia')\n",
    "plt.xlabel('Kelompok Usia')\n",
    "plt.ylabel('Rata-rata Jumlah Pembayaran')\n",
    "plt.xticks(rotation=45)\n",
    "plt.show()"
   ]
  },
  {
   "cell_type": "markdown",
   "metadata": {},
   "source": [
    "# Deskripsi Grafik:\n",
    "Grafik di atas menampilkan rata-rata jumlah pembayaran (payAmount) berdasarkan kelompok usia pengguna. Kelompok usia dikelompokkan dalam interval 10 tahun mulai dari 0-20 hingga 91-100.\n",
    "\n",
    "# Hasil Analisa:\n",
    "\n",
    "1. Kelompok Usia 0-20 dan 21-30:\n",
    "\n",
    "Rata-rata jumlah pembayaran untuk kelompok usia ini berada di sekitar 2000.\n",
    "Ini menunjukkan bahwa pengguna dalam rentang usia ini cenderung memiliki pembayaran rata-rata yang cukup tinggi.\n",
    "\n",
    "2. Kelompok Usia 31-40, 41-50, dan 51-60:\n",
    "\n",
    "Rata-rata jumlah pembayaran untuk kelompok usia ini berada di bawah 2000.\n",
    "Ini menunjukkan penurunan dalam rata-rata jumlah pembayaran dibandingkan dengan kelompok usia sebelumnya (0-30).\n",
    "\n",
    "3. Kelompok Usia 61-70 dan 71-80:\n",
    "\n",
    "Rata-rata jumlah pembayaran untuk kelompok usia 61-70 meningkat tajam dan mencapai sekitar 2600.\n",
    "Kelompok usia 71-80 juga menunjukkan rata-rata jumlah pembayaran yang tinggi, tetapi sedikit lebih rendah dibandingkan kelompok usia 61-70.\n",
    "\n",
    "4. Kelompok Usia 81-90 dan 91-100:\n",
    "\n",
    "Data untuk kelompok usia ini tidak ada atau tidak ditampilkan dalam grafik. Mungkin disebabkan oleh kurangnya sampel data untuk rentang usia ini.\n"
   ]
  },
  {
   "cell_type": "markdown",
   "metadata": {},
   "source": [
    "# Interpretasi:\n",
    "\n",
    "## 1. Kelompok Usia Muda (0-30):\n",
    "Pengguna dalam kelompok usia muda cenderung memiliki pembayaran rata-rata yang tinggi. Hal ini mungkin disebabkan oleh tingginya aktivitas atau kebutuhan transportasi pada kelompok usia ini.\n",
    "\n",
    "### Kebutuhan dan Preferensi:\n",
    "- Pengguna dalam kelompok usia ini mungkin merupakan pelajar, mahasiswa, atau pekerja muda yang memiliki mobilitas tinggi.\n",
    "- Mereka cenderung lebih responsif terhadap penawaran diskon, promosi harian, atau program loyalitas berbasis aplikasi.\n",
    "\n",
    "### Strategi:\n",
    "- **Diskon dan Promosi:** Perusahaan dapat menawarkan diskon khusus pada jam sibuk pagi dan sore hari ketika banyak pengguna muda yang berangkat atau pulang dari tempat kerja/sekolah.\n",
    "- **Program Loyalitas:** Meningkatkan program loyalitas dengan reward yang menarik, seperti poin yang bisa ditukar dengan tiket gratis atau merchandise.\n",
    "- **Kolaborasi:** Mengadakan kolaborasi dengan institusi pendidikan atau perusahaan untuk memberikan diskon khusus bagi karyawan atau mahasiswa.\n",
    "\n",
    "## 2. Kelompok Usia Dewasa (31-60):\n",
    "Rata-rata jumlah pembayaran menurun untuk kelompok usia dewasa. Penurunan ini mungkin disebabkan oleh perubahan pola mobilitas atau penggunaan transportasi umum.\n",
    "\n",
    "### Kebutuhan dan Preferensi:\n",
    "- Pengguna dalam kelompok usia ini mungkin lebih stabil dalam hal ekonomi dan cenderung memiliki pola perjalanan yang tetap.\n",
    "- Mereka mungkin mencari kenyamanan dan efisiensi dalam perjalanan.\n",
    "\n",
    "### Strategi:\n",
    "- **Promosi Berlangganan:** Menawarkan paket berlangganan bulanan atau tahunan dengan harga lebih hemat untuk menarik minat pengguna yang melakukan perjalanan rutin.\n",
    "- **Program Loyalitas:** Mengembangkan program loyalitas yang memberikan keuntungan jangka panjang, seperti diskon setelah penggunaan tertentu atau fasilitas eksklusif di halte tertentu.\n",
    "- **Survei dan Feedback:** Melakukan survei untuk memahami alasan penurunan pembayaran dan merancang program yang dapat memenuhi kebutuhan pengguna dewasa, seperti peningkatan frekuensi atau kualitas layanan.\n",
    "\n",
    "## 3. Kelompok Usia Lanjut (61-80):\n",
    "Rata-rata jumlah pembayaran meningkat tajam untuk kelompok usia ini. Hal ini mungkin disebabkan oleh kebutuhan mobilitas yang berbeda atau adanya peningkatan penggunaan transportasi umum.\n",
    "\n",
    "### Kebutuhan dan Preferensi:\n",
    "- Pengguna dalam kelompok usia ini mungkin mencari kenyamanan, keamanan, dan aksesibilitas dalam perjalanan.\n",
    "- Mereka mungkin lebih tertarik pada layanan yang memperhatikan kebutuhan khusus, seperti kursi khusus atau akses mudah bagi penyandang disabilitas.\n",
    "\n",
    "### Strategi:\n",
    "- **Layanan Khusus:** Mengembangkan layanan khusus seperti jalur prioritas, kursi khusus lansia, atau petugas yang membantu di halte-halte utama.\n",
    "- **Promosi Khusus:** Menawarkan promosi khusus atau tiket dengan harga lebih murah untuk pengguna lanjut usia, terutama di luar jam sibuk.\n",
    "- **Program Sosialisasi:** Mengadakan program sosialisasi dan edukasi mengenai penggunaan transportasi umum yang aman dan nyaman bagi lansia.\n"
   ]
  },
  {
   "cell_type": "markdown",
   "metadata": {},
   "source": [
    "## Pengembangan Layanan:\n",
    "\n",
    "### Kelompok Usia Muda dan Lanjut:\n",
    "\n",
    "#### Kelompok Usia Muda:\n",
    "1. **Fitur Digital:** \n",
    "   - Mengembangkan aplikasi dengan fitur yang relevan bagi pengguna muda, seperti notifikasi real-time, pembayaran digital, dan fitur gamifikasi yang membuat penggunaan transportasi umum lebih menarik.\n",
    "2. **Fasilitas Hiburan:** \n",
    "   - Menyediakan fasilitas hiburan seperti Wi-Fi gratis di dalam kendaraan untuk menarik minat pengguna muda.\n",
    "\n",
    "#### Kelompok Usia Lanjut:\n",
    "1. **Program Transportasi Terjadwal:** \n",
    "   - Mengembangkan program transportasi terjadwal dengan rute yang menghubungkan area perumahan lansia dengan fasilitas umum seperti rumah sakit, pusat perbelanjaan, dan taman.\n",
    "2. **Fasilitas Khusus:** \n",
    "   - Menyediakan fasilitas khusus seperti pegangan tambahan, kursi dengan ruang yang lebih luas, dan platform rendah untuk memudahkan naik turun kendaraan.\n",
    "3. **Petugas Bantuan:** \n",
    "   - Menyediakan petugas bantuan di halte utama untuk membantu lansia dalam mengakses layanan transportasi dengan mudah dan aman.\n"
   ]
  },
  {
   "cell_type": "markdown",
   "metadata": {},
   "source": [
    "## **Kesimpulan dan Rekomendasi Bisnis**"
   ]
  },
  {
   "cell_type": "markdown",
   "metadata": {},
   "source": [
    "\n",
    "\n",
    "## Kesimpulan\n",
    "\n",
    "1. **Durasi Perjalanan:**\n",
    "   - **Malam hari:** Durasi terpendek, lalu lintas lancar.\n",
    "   - **Pagi hari:** Durasi lebih lama, lalu lintas padat.\n",
    "   - **Siang hari:** Durasi tertinggi, pengaruh cuaca dan aktivitas tinggi.\n",
    "   - **Sore hari:** Durasi hampir sama dengan siang, jam pulang kerja.\n",
    "\n",
    "2. **Koridor Perjalanan:**\n",
    "   - **Durasi Terpendek:**\n",
    "     - Pulo Gebang - Pulo Gadung 2\n",
    "     - Pulo Gadung 2 - Dukuh Atas 2\n",
    "     - Pasar Minggu - Jagakarsa\n",
    "     - Tanah Abang - Blok M\n",
    "     - Stasiun Tebet - BNN\n",
    "   - **Durasi Terpanjang:**\n",
    "     - Puri Kembangan - Sentraland Cengkareng\n",
    "     - Rawamangun - Klender\n",
    "     - Senen - Pulo Gadung via Kelapa Gading\n",
    "     - Rusun Pinus Elok - Rusun Pulo Gebang\n",
    "     - Stasiun Palmerah - Tosari\n",
    "\n",
    "3. **Pembayaran Berdasarkan Jenis Kelamin:**\n",
    "   - **Perempuan:** Rata-rata pembayaran 1837.31.\n",
    "   - **Laki-laki:** Rata-rata pembayaran 1903.74.\n",
    "\n",
    "4. **Pembayaran Berdasarkan Bank Penerbit Kartu:**\n",
    "   - **Tertinggi:** Kartu Flazz dan BRIZZI.\n",
    "   - **Terendah:** Kartu Online.\n",
    "\n",
    "5. **Pembayaran Berdasarkan Kelompok Usia:**\n",
    "   - **Usia 0-30:** Pembayaran tinggi.\n",
    "   - **Usia 31-60:** Pembayaran menurun.\n",
    "   - **Usia 61-80:** Pembayaran meningkat.\n",
    "   - **Usia 81-100:** Data tidak tersedia.\n",
    "\n",
    "## Rekomendasi Bisnis\n",
    "\n",
    "1. **Strategi Promosi:**\n",
    "   - **Usia Muda (0-30):**\n",
    "     - Diskon khusus pada jam sibuk.\n",
    "     - Program loyalitas menarik.\n",
    "     - Kolaborasi dengan institusi pendidikan.\n",
    "   - **Usia Dewasa (31-60):**\n",
    "     - Paket berlangganan hemat.\n",
    "     - Program loyalitas jangka panjang.\n",
    "     - Survei untuk memahami kebutuhan pengguna.\n",
    "   - **Usia Lanjut (61-80):**\n",
    "     - Layanan khusus seperti jalur prioritas.\n",
    "     - Promosi khusus bagi lansia.\n",
    "     - Program sosialisasi mengenai penggunaan transportasi.\n",
    "\n",
    "2. **Pengembangan Layanan:**\n",
    "   - **Usia Muda:**\n",
    "     - Aplikasi dengan fitur digital menarik.\n",
    "     - Fasilitas hiburan seperti Wi-Fi gratis.\n",
    "   - **Usia Lanjut:**\n",
    "     - Program transportasi terjadwal.\n",
    "     - Fasilitas khusus seperti pegangan tambahan.\n",
    "     - Petugas bantuan di halte utama.\n",
    "\n",
    "3. **Jenis Kelamin:**\n",
    "   - **Perempuan:**\n",
    "     - Diskon khusus dan cashback.\n",
    "     - Promosi pada hari-hari khusus.\n",
    "   - **Laki-laki:**\n",
    "     - Paket bundling untuk produk teknologi.\n",
    "\n",
    "4. **Bank Penerbit Kartu:**\n",
    "   - **Flazz dan BRIZZI:**\n",
    "     - Diskon atau cashback khusus.\n",
    "   - **Kartu Online:**\n",
    "     - Insentif tambahan untuk meningkatkan penggunaan.\n"
   ]
  },
  {
   "cell_type": "code",
   "execution_count": 41,
   "metadata": {},
   "outputs": [],
   "source": [
    "data_cleaned.to_csv('dataTJbersih.csv', index=False)"
   ]
  },
  {
   "cell_type": "markdown",
   "metadata": {},
   "source": []
  }
 ],
 "metadata": {
  "kernelspec": {
   "display_name": "Python 3",
   "language": "python",
   "name": "python3"
  },
  "language_info": {
   "codemirror_mode": {
    "name": "ipython",
    "version": 3
   },
   "file_extension": ".py",
   "mimetype": "text/x-python",
   "name": "python",
   "nbconvert_exporter": "python",
   "pygments_lexer": "ipython3",
   "version": "3.12.3"
  }
 },
 "nbformat": 4,
 "nbformat_minor": 2
}
